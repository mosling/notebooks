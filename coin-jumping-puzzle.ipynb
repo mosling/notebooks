{
 "cells": [
  {
   "cell_type": "markdown",
   "metadata": {},
   "source": [
    "## Coin Jumping Puzzle\n",
    "\n",
    "`[2,2,2,0,1,1,1]` convert to `[1,1,1,0,2,2,2]` by some rules\n",
    "1. `2` can move to right only and `1` can move to left only\n",
    "2. a coin can move to the empty field (`0`) by directly or by jump over one other coin\n",
    "\n",
    "We solve this problem with two arrays, the configuration and the solution array. The solution array contains all moves and at the last postion (`[-1]`) the next possible move depending at the moving numbers (i.e. -2,-1,1,2) which describe how the zero field can be moved."
   ]
  },
  {
   "cell_type": "code",
   "execution_count": 2,
   "metadata": {},
   "outputs": [],
   "source": [
    "import matplotlib.pyplot as plt"
   ]
  },
  {
   "cell_type": "code",
   "execution_count": 3,
   "metadata": {},
   "outputs": [],
   "source": [
    "def check_solution(c):\n",
    "    '''return True if a solution is found'''\n",
    "    o = len(c) // 2\n",
    "    for i in range (0,o):\n",
    "        if c[i] != 1:\n",
    "            return False\n",
    "        if c[i + o + 1] != 2:\n",
    "            return False\n",
    "    \n",
    "    return True"
   ]
  },
  {
   "cell_type": "code",
   "execution_count": 4,
   "metadata": {},
   "outputs": [],
   "source": [
    "def can_move(c, m):\n",
    "    '''check configuration if the move m is possible\n",
    "    by checking the boundaries and the move direction for 1 and 2\n",
    "    '''\n",
    "    z = c.index(0)\n",
    "    l = len(c)\n",
    "    np = z + m\n",
    "    if np >= 0 and np < l:\n",
    "        if m < 0 and c[np] == 2:\n",
    "            return True\n",
    "        if m > 0 and c[np] == 1:\n",
    "            return True\n",
    "    \n",
    "    return False"
   ]
  },
  {
   "cell_type": "code",
   "execution_count": 5,
   "metadata": {},
   "outputs": [],
   "source": [
    "def do_move(c, m):\n",
    "    '''do the move by change the configuration'''\n",
    "    z = c.index(0)\n",
    "    c[z] = c[z + m]\n",
    "    c[z + m] = 0\n",
    "    \n",
    "    return c"
   ]
  },
  {
   "cell_type": "code",
   "execution_count": 6,
   "metadata": {},
   "outputs": [],
   "source": [
    "def get_next_move(m, l):\n",
    "    z = m.index(l)\n",
    "    return m[z+1]"
   ]
  },
  {
   "cell_type": "code",
   "execution_count": 7,
   "metadata": {},
   "outputs": [],
   "source": [
    "def prepare_next_move(c, s, m, undo_configuration = False):\n",
    "    '''prepare the next move by adding one if possible or doing a simple backtracking by reaching the move number 2'''\n",
    "    if 0 == len(s):\n",
    "        return\n",
    "    \n",
    "    lm = s.pop()\n",
    "    if undo_configuration:\n",
    "        do_move(c, -lm)\n",
    "    if m[-1] == lm:\n",
    "        prepare_next_move(c, s, m, True)\n",
    "    else:\n",
    "        s.append(get_next_move(m,lm))"
   ]
  },
  {
   "cell_type": "code",
   "execution_count": 8,
   "metadata": {},
   "outputs": [],
   "source": [
    "def next_move(c ,s, m):\n",
    "    '''read the last solution entry and do the move if possible othewrwise prepare for the next move'''\n",
    "    if 0 == len(s):\n",
    "        # no more moves possible\n",
    "        return True\n",
    "    \n",
    "    x = s[-1]\n",
    "    if can_move(c, x):\n",
    "        do_move(c, x)\n",
    "        s.append(m[0])\n",
    "        return True\n",
    "    else:\n",
    "        prepare_next_move(c, s, m)    \n",
    "    \n",
    "    return False"
   ]
  },
  {
   "cell_type": "code",
   "execution_count": 9,
   "metadata": {},
   "outputs": [],
   "source": [
    "def replay(c, s):\n",
    "    '''replay the solution to show a step by step solution'''\n",
    "    print (\"replay solution {} with {} steps.\".format(s, len(s)))\n",
    "    for i in s:\n",
    "        do_move(c, i)\n",
    "        print(c)"
   ]
  },
  {
   "cell_type": "markdown",
   "metadata": {},
   "source": [
    "## Setup Environment\n",
    "\n",
    "* *bl* the length of one block of one's or two's (i.e. 2 creates [1,1,0,2,2]) but **Attention** the backtraging solution grows exponentially in time\n",
    "* *supported_moves* the default moveset is [-2,-1,1,2] but you can use othe configurations"
   ]
  },
  {
   "cell_type": "code",
   "execution_count": 16,
   "metadata": {},
   "outputs": [
    {
     "name": "stdout",
     "output_type": "stream",
     "text": [
      "found 2 solutions\n",
      "sum of all steps is: 0\n",
      "replay solution [-1, 2, 1, -2, -2, -1, 2, 2, 2, 1, -2, -2, -2, -2, -1, 2, 2, 2, 2, 2, 1, -2, -2, -2, -2, -2, -2, 1, 2, 2, 2, 2, 2, -1, -2, -2, -2, -2, 1, 2, 2, 2, -1, -2, -2, 1, 2, -1] with 48 steps.\n",
      "[2, 2, 2, 2, 2, 0, 2, 1, 1, 1, 1, 1, 1]\n",
      "[2, 2, 2, 2, 2, 1, 2, 0, 1, 1, 1, 1, 1]\n",
      "[2, 2, 2, 2, 2, 1, 2, 1, 0, 1, 1, 1, 1]\n",
      "[2, 2, 2, 2, 2, 1, 0, 1, 2, 1, 1, 1, 1]\n",
      "[2, 2, 2, 2, 0, 1, 2, 1, 2, 1, 1, 1, 1]\n",
      "[2, 2, 2, 0, 2, 1, 2, 1, 2, 1, 1, 1, 1]\n",
      "[2, 2, 2, 1, 2, 0, 2, 1, 2, 1, 1, 1, 1]\n",
      "[2, 2, 2, 1, 2, 1, 2, 0, 2, 1, 1, 1, 1]\n",
      "[2, 2, 2, 1, 2, 1, 2, 1, 2, 0, 1, 1, 1]\n",
      "[2, 2, 2, 1, 2, 1, 2, 1, 2, 1, 0, 1, 1]\n",
      "[2, 2, 2, 1, 2, 1, 2, 1, 0, 1, 2, 1, 1]\n",
      "[2, 2, 2, 1, 2, 1, 0, 1, 2, 1, 2, 1, 1]\n",
      "[2, 2, 2, 1, 0, 1, 2, 1, 2, 1, 2, 1, 1]\n",
      "[2, 2, 0, 1, 2, 1, 2, 1, 2, 1, 2, 1, 1]\n",
      "[2, 0, 2, 1, 2, 1, 2, 1, 2, 1, 2, 1, 1]\n",
      "[2, 1, 2, 0, 2, 1, 2, 1, 2, 1, 2, 1, 1]\n",
      "[2, 1, 2, 1, 2, 0, 2, 1, 2, 1, 2, 1, 1]\n",
      "[2, 1, 2, 1, 2, 1, 2, 0, 2, 1, 2, 1, 1]\n",
      "[2, 1, 2, 1, 2, 1, 2, 1, 2, 0, 2, 1, 1]\n",
      "[2, 1, 2, 1, 2, 1, 2, 1, 2, 1, 2, 0, 1]\n",
      "[2, 1, 2, 1, 2, 1, 2, 1, 2, 1, 2, 1, 0]\n",
      "[2, 1, 2, 1, 2, 1, 2, 1, 2, 1, 0, 1, 2]\n",
      "[2, 1, 2, 1, 2, 1, 2, 1, 0, 1, 2, 1, 2]\n",
      "[2, 1, 2, 1, 2, 1, 0, 1, 2, 1, 2, 1, 2]\n",
      "[2, 1, 2, 1, 0, 1, 2, 1, 2, 1, 2, 1, 2]\n",
      "[2, 1, 0, 1, 2, 1, 2, 1, 2, 1, 2, 1, 2]\n",
      "[0, 1, 2, 1, 2, 1, 2, 1, 2, 1, 2, 1, 2]\n",
      "[1, 0, 2, 1, 2, 1, 2, 1, 2, 1, 2, 1, 2]\n",
      "[1, 1, 2, 0, 2, 1, 2, 1, 2, 1, 2, 1, 2]\n",
      "[1, 1, 2, 1, 2, 0, 2, 1, 2, 1, 2, 1, 2]\n",
      "[1, 1, 2, 1, 2, 1, 2, 0, 2, 1, 2, 1, 2]\n",
      "[1, 1, 2, 1, 2, 1, 2, 1, 2, 0, 2, 1, 2]\n",
      "[1, 1, 2, 1, 2, 1, 2, 1, 2, 1, 2, 0, 2]\n",
      "[1, 1, 2, 1, 2, 1, 2, 1, 2, 1, 0, 2, 2]\n",
      "[1, 1, 2, 1, 2, 1, 2, 1, 0, 1, 2, 2, 2]\n",
      "[1, 1, 2, 1, 2, 1, 0, 1, 2, 1, 2, 2, 2]\n",
      "[1, 1, 2, 1, 0, 1, 2, 1, 2, 1, 2, 2, 2]\n",
      "[1, 1, 0, 1, 2, 1, 2, 1, 2, 1, 2, 2, 2]\n",
      "[1, 1, 1, 0, 2, 1, 2, 1, 2, 1, 2, 2, 2]\n",
      "[1, 1, 1, 1, 2, 0, 2, 1, 2, 1, 2, 2, 2]\n",
      "[1, 1, 1, 1, 2, 1, 2, 0, 2, 1, 2, 2, 2]\n",
      "[1, 1, 1, 1, 2, 1, 2, 1, 2, 0, 2, 2, 2]\n",
      "[1, 1, 1, 1, 2, 1, 2, 1, 0, 2, 2, 2, 2]\n",
      "[1, 1, 1, 1, 2, 1, 0, 1, 2, 2, 2, 2, 2]\n",
      "[1, 1, 1, 1, 0, 1, 2, 1, 2, 2, 2, 2, 2]\n",
      "[1, 1, 1, 1, 1, 0, 2, 1, 2, 2, 2, 2, 2]\n",
      "[1, 1, 1, 1, 1, 1, 2, 0, 2, 2, 2, 2, 2]\n",
      "[1, 1, 1, 1, 1, 1, 0, 2, 2, 2, 2, 2, 2]\n",
      "Wall time: 17 ms\n"
     ]
    }
   ],
   "source": [
    "%%time\n",
    "bl = 6\n",
    "print_each_solution = False\n",
    "start_configuration = [2 if x< bl else 1 if x > bl else 0 for x in range(0, (2*bl+1))]\n",
    "supported_moves=[-2,-1,1,2]\n",
    "\n",
    "configuration = start_configuration.copy()\n",
    "solution = []\n",
    "solution.append(supported_moves[0])\n",
    "best_solution = []\n",
    "count_solution = 0\n",
    "\n",
    "while len(solution) > 0:\n",
    "    if check_solution(configuration):\n",
    "        if print_each_solution:\n",
    "            print(solution)\n",
    "        count_solution = count_solution + 1\n",
    "        lb = len(best_solution)\n",
    "        if lb == 0 or lb > len(solution) - 1:\n",
    "            best_solution = solution.copy()\n",
    "            best_solution.pop()\n",
    "    \n",
    "    while not next_move(configuration, solution, supported_moves):\n",
    "        pass\n",
    "    \n",
    "if len(best_solution) > 0:\n",
    "    print (\"found {} solutions\".format(count_solution))\n",
    "    print (\"sum of all steps is: {}\".format(sum(best_solution)))\n",
    "    replay(configuration, best_solution)\n",
    "else:\n",
    "    print(\"no solution found, please change the possible move array\")\n",
    "        \n",
    "            "
   ]
  },
  {
   "cell_type": "code",
   "execution_count": 11,
   "metadata": {},
   "outputs": [
    {
     "data": {
      "text/plain": [
       "[<matplotlib.lines.Line2D at 0x1e776fdc088>]"
      ]
     },
     "execution_count": 11,
     "metadata": {},
     "output_type": "execute_result"
    },
    {
     "data": {
      "image/png": "[encoded data removed]",
      "text/plain": [
       "<Figure size 432x288 with 1 Axes>"
      ]
     },
     "metadata": {
      "needs_background": "light"
     },
     "output_type": "display_data"
    }
   ],
   "source": [
    "plt.plot(best_solution)"
   ]
  },
  {
   "cell_type": "code",
   "execution_count": null,
   "metadata": {},
   "outputs": [],
   "source": []
  }
 ],
 "metadata": {
  "kernelspec": {
   "display_name": "Python 3",
   "language": "python",
   "name": "python3"
  },
  "language_info": {
   "codemirror_mode": {
    "name": "ipython",
    "version": 3
   },
   "file_extension": ".py",
   "mimetype": "text/x-python",
   "name": "python",
   "nbconvert_exporter": "python",
   "pygments_lexer": "ipython3",
   "version": "3.7.4"
  }
 },
 "nbformat": 4,
 "nbformat_minor": 4
}
