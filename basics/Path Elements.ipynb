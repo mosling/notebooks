{
 "cells": [
  {
   "cell_type": "code",
   "execution_count": 1,
   "id": "1a66b8e1",
   "metadata": {},
   "outputs": [],
   "source": [
    "import pathlib"
   ]
  },
  {
   "cell_type": "code",
   "execution_count": 29,
   "id": "16dedd79",
   "metadata": {},
   "outputs": [],
   "source": [
    "p = pathlib.Path(r'C:\\Users\\koehler_s\\development\\adamms-diff\\data\\ltv\\ADaMMS_2022-11-22_090804All.xml.txt')"
   ]
  },
  {
   "cell_type": "code",
   "execution_count": 4,
   "id": "4c2c5f5d",
   "metadata": {},
   "outputs": [
    {
     "data": {
      "text/plain": [
       "WindowsPath('C:/Users/koehler_s/development/adamms-diff/data/ltv/ADaMMS_2022-11-22_090804All.xml')"
      ]
     },
     "execution_count": 4,
     "metadata": {},
     "output_type": "execute_result"
    }
   ],
   "source": [
    "p.absolute()"
   ]
  },
  {
   "cell_type": "code",
   "execution_count": 15,
   "id": "fa129479",
   "metadata": {},
   "outputs": [
    {
     "data": {
      "text/plain": [
       "WindowsPath('C:/Users/koehler_s/development/adamms-diff/data/ltv')"
      ]
     },
     "execution_count": 15,
     "metadata": {},
     "output_type": "execute_result"
    }
   ],
   "source": [
    "p.parent"
   ]
  },
  {
   "cell_type": "code",
   "execution_count": 34,
   "id": "e3f085ed",
   "metadata": {},
   "outputs": [
    {
     "data": {
      "text/plain": [
       "'ADaMMS_2022-11-22_090804All.xml.txt'"
      ]
     },
     "execution_count": 34,
     "metadata": {},
     "output_type": "execute_result"
    }
   ],
   "source": [
    "p.name"
   ]
  },
  {
   "cell_type": "code",
   "execution_count": 30,
   "id": "b1b120bf",
   "metadata": {},
   "outputs": [
    {
     "data": {
      "text/plain": [
       "'ADaMMS_2022-11-22_090804All.xml'"
      ]
     },
     "execution_count": 30,
     "metadata": {},
     "output_type": "execute_result"
    }
   ],
   "source": [
    "p.stem"
   ]
  },
  {
   "cell_type": "code",
   "execution_count": 31,
   "id": "cd181730",
   "metadata": {},
   "outputs": [
    {
     "data": {
      "text/plain": [
       "'.txt'"
      ]
     },
     "execution_count": 31,
     "metadata": {},
     "output_type": "execute_result"
    }
   ],
   "source": [
    "p.suffix"
   ]
  },
  {
   "cell_type": "code",
   "execution_count": 17,
   "id": "89366be2",
   "metadata": {},
   "outputs": [
    {
     "data": {
      "text/plain": [
       "WindowsPath('C:/Users/koehler_s/development/adamms-diff/data/ltv/ADaMMS_2022-11-22_090804All.html')"
      ]
     },
     "execution_count": 17,
     "metadata": {},
     "output_type": "execute_result"
    }
   ],
   "source": [
    "p.parent / (p.stem + \".html\")"
   ]
  },
  {
   "cell_type": "code",
   "execution_count": 18,
   "id": "487271df",
   "metadata": {},
   "outputs": [
    {
     "data": {
      "text/plain": [
       "WindowsPath('C:/Users/koehler_s/development/adamms-diff/data/ltv/ADaMMS_2022-11-22_090804All')"
      ]
     },
     "execution_count": 18,
     "metadata": {},
     "output_type": "execute_result"
    }
   ],
   "source": [
    "p.parent / p.stem"
   ]
  },
  {
   "cell_type": "code",
   "execution_count": 22,
   "id": "d66d6544",
   "metadata": {},
   "outputs": [
    {
     "name": "stdout",
     "output_type": "stream",
     "text": [
      "C:\\Users\\koehler_s\\development\\adamms-diff\\data\\ltv\n",
      "C:\\Users\\koehler_s\\development\\adamms-diff\\data\n",
      "C:\\Users\\koehler_s\\development\\adamms-diff\n",
      "C:\\Users\\koehler_s\\development\n",
      "C:\\Users\\koehler_s\n",
      "C:\\Users\n",
      "C:\\\n"
     ]
    }
   ],
   "source": [
    "for p in p.parents:\n",
    "    print(p)"
   ]
  }
 ],
 "metadata": {
  "kernelspec": {
   "display_name": "Python 3",
   "language": "python",
   "name": "python3"
  },
  "language_info": {
   "codemirror_mode": {
    "name": "ipython",
    "version": 3
   },
   "file_extension": ".py",
   "mimetype": "text/x-python",
   "name": "python",
   "nbconvert_exporter": "python",
   "pygments_lexer": "ipython3",
   "version": "3.9.5"
  }
 },
 "nbformat": 4,
 "nbformat_minor": 5
}
