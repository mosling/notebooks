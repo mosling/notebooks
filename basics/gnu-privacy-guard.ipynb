{
 "cells": [
  {
   "cell_type": "code",
   "execution_count": 1,
   "id": "9838d0e8",
   "metadata": {},
   "outputs": [],
   "source": [
    "import gnupg\n",
    "import json"
   ]
  },
  {
   "cell_type": "code",
   "execution_count": 5,
   "id": "6ed834d4",
   "metadata": {},
   "outputs": [],
   "source": [
    "gpg = gnupg.GPG(gpgbinary=\"C:/Program Files (x86)/GnuPG/bin/gpg.exe\", verbose=False)\n",
    "gpg.encoding = 'utf-8'"
   ]
  },
  {
   "cell_type": "code",
   "execution_count": 6,
   "id": "5b0816b8",
   "metadata": {},
   "outputs": [],
   "source": [
    "public_keys = gpg.list_keys() # same as gpg.list_keys(False)"
   ]
  },
  {
   "cell_type": "code",
   "execution_count": 7,
   "id": "ae129a56",
   "metadata": {},
   "outputs": [
    {
     "data": {
      "text/plain": [
       "[{'type': 'pub',\n",
       "  'trust': 'u',\n",
       "  'length': '2048',\n",
       "  'algo': '1',\n",
       "  'keyid': '33FABFFC33405826',\n",
       "  'date': '1620726095',\n",
       "  'expires': '',\n",
       "  'dummy': '',\n",
       "  'ownertrust': 'u',\n",
       "  'sig': '',\n",
       "  'cap': 'scESC',\n",
       "  'issuer': '',\n",
       "  'flag': '',\n",
       "  'token': '',\n",
       "  'hash': '',\n",
       "  'curve': '',\n",
       "  'compliance': '23',\n",
       "  'updated': '',\n",
       "  'origin': '0',\n",
       "  'uids': ['Steffen Köhler <steffen.koehler@esn.de>'],\n",
       "  'sigs': [],\n",
       "  'subkeys': [['884767183ADD64EE',\n",
       "    'e',\n",
       "    'CBE323EE3A167C087346F743884767183ADD64EE']],\n",
       "  'fingerprint': 'BE3780F9C3328460C222CB5833FABFFC33405826',\n",
       "  'subkey_info': {'884767183ADD64EE': {'type': 'sub',\n",
       "    'trust': 'u',\n",
       "    'length': '2048',\n",
       "    'algo': '1',\n",
       "    'keyid': '884767183ADD64EE',\n",
       "    'date': '1620726095',\n",
       "    'expires': '',\n",
       "    'dummy': '',\n",
       "    'ownertrust': '',\n",
       "    'uid': '',\n",
       "    'sig': '',\n",
       "    'cap': 'e',\n",
       "    'issuer': '',\n",
       "    'flag': '',\n",
       "    'token': '',\n",
       "    'hash': '',\n",
       "    'curve': '',\n",
       "    'compliance': '23',\n",
       "    'updated': '',\n",
       "    'origin': 'unavailable'}}}]"
      ]
     },
     "execution_count": 7,
     "metadata": {},
     "output_type": "execute_result"
    }
   ],
   "source": [
    "public_keys"
   ]
  },
  {
   "cell_type": "code",
   "execution_count": null,
   "id": "50b4ada4",
   "metadata": {},
   "outputs": [],
   "source": []
  }
 ],
 "metadata": {
  "kernelspec": {
   "display_name": "Python 3",
   "language": "python",
   "name": "python3"
  },
  "language_info": {
   "codemirror_mode": {
    "name": "ipython",
    "version": 3
   },
   "file_extension": ".py",
   "mimetype": "text/x-python",
   "name": "python",
   "nbconvert_exporter": "python",
   "pygments_lexer": "ipython3",
   "version": "3.9.4"
  }
 },
 "nbformat": 4,
 "nbformat_minor": 5
}
