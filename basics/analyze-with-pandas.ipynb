{
 "cells": [
  {
   "cell_type": "code",
   "execution_count": 21,
   "id": "6497b17f",
   "metadata": {},
   "outputs": [],
   "source": [
    "import pandas as pd"
   ]
  },
  {
   "cell_type": "code",
   "execution_count": 58,
   "id": "78c79d49",
   "metadata": {},
   "outputs": [],
   "source": [
    "# df = pd.read_excel (r'progemis/Anlagen PROGEMIS_Export_20210519_131120.xlsx', sheet_name='PROGEMIS_XLSX20210519_131120')\n",
    "df = pd.read_excel (r'progemis/Lose GUV GKS Auftragsnummern.xlsx', sheet_name='Gewässerverzeichnis')\n",
    "# df = pd.read_excel (r'progemis/Unterhaltungsabschnitte PROGEMIS_Export_20210519_131003.xlsx', sheet_name='PROGEMIS_XLSX20210519_131003')"
   ]
  },
  {
   "cell_type": "code",
   "execution_count": 59,
   "id": "f7eee231",
   "metadata": {},
   "outputs": [
    {
     "name": "stdout",
     "output_type": "stream",
     "text": [
      "<class 'pandas.core.frame.DataFrame'>\n",
      "RangeIndex: 449 entries, 0 to 448\n",
      "Data columns (total 6 columns):\n",
      " #   Column           Non-Null Count  Dtype \n",
      "---  ------           --------------  ----- \n",
      " 0   lfd.             449 non-null    object\n",
      " 1   GWK              449 non-null    object\n",
      " 2   Name Gewässer    449 non-null    object\n",
      " 3   lfd..1           410 non-null    object\n",
      " 4   GWK.1            410 non-null    object\n",
      " 5   Name Gewässer.1  410 non-null    object\n",
      "dtypes: object(6)\n",
      "memory usage: 21.2+ KB\n"
     ]
    }
   ],
   "source": [
    "df.info()"
   ]
  },
  {
   "cell_type": "code",
   "execution_count": 60,
   "id": "1b6fcb55",
   "metadata": {},
   "outputs": [],
   "source": [
    "df1 = df[['lfd.', 'GWK', 'Name Gewässer']].copy()"
   ]
  },
  {
   "cell_type": "code",
   "execution_count": 61,
   "id": "046cf08b",
   "metadata": {},
   "outputs": [],
   "source": [
    "df2 = df[['lfd..1', 'GWK.1', 'Name Gewässer.1']].copy().rename(columns={'lfd..1': 'lfd.', 'GWK.1': \"GWK\", 'Name Gewässer.1': \"Name Gewässer\"})"
   ]
  },
  {
   "cell_type": "code",
   "execution_count": 62,
   "id": "44a76ec4",
   "metadata": {},
   "outputs": [
    {
     "name": "stdout",
     "output_type": "stream",
     "text": [
      "<class 'pandas.core.frame.DataFrame'>\n",
      "RangeIndex: 449 entries, 0 to 448\n",
      "Data columns (total 3 columns):\n",
      " #   Column         Non-Null Count  Dtype \n",
      "---  ------         --------------  ----- \n",
      " 0   lfd.           410 non-null    object\n",
      " 1   GWK            410 non-null    object\n",
      " 2   Name Gewässer  410 non-null    object\n",
      "dtypes: object(3)\n",
      "memory usage: 10.6+ KB\n"
     ]
    }
   ],
   "source": [
    "df2.info()"
   ]
  },
  {
   "cell_type": "code",
   "execution_count": 63,
   "id": "9f741776",
   "metadata": {},
   "outputs": [],
   "source": [
    "df2.index += len(df1)"
   ]
  },
  {
   "cell_type": "code",
   "execution_count": 64,
   "id": "bc1608c2",
   "metadata": {},
   "outputs": [],
   "source": [
    "result = pd.concat([df1, df2])"
   ]
  },
  {
   "cell_type": "code",
   "execution_count": 67,
   "id": "b11c26f5",
   "metadata": {},
   "outputs": [],
   "source": [
    "indexNames = result[ result['GWK'] == 'GWK'].index"
   ]
  },
  {
   "cell_type": "code",
   "execution_count": 69,
   "id": "1a335d6f",
   "metadata": {},
   "outputs": [
    {
     "ename": "PermissionError",
     "evalue": "[Errno 13] Permission denied: 'progemis/output.xlsx'",
     "output_type": "error",
     "traceback": [
      "\u001b[1;31m---------------------------------------------------------------------------\u001b[0m",
      "\u001b[1;31mPermissionError\u001b[0m                           Traceback (most recent call last)",
      "\u001b[1;32m<ipython-input-69-458e744e65af>\u001b[0m in \u001b[0;36m<module>\u001b[1;34m\u001b[0m\n\u001b[1;32m----> 1\u001b[1;33m \u001b[0mresult\u001b[0m\u001b[1;33m.\u001b[0m\u001b[0mto_excel\u001b[0m\u001b[1;33m(\u001b[0m\u001b[1;34m\"progemis/output.xlsx\"\u001b[0m\u001b[1;33m,\u001b[0m \u001b[0mindex\u001b[0m\u001b[1;33m=\u001b[0m\u001b[1;32mFalse\u001b[0m\u001b[1;33m)\u001b[0m\u001b[1;33m\u001b[0m\u001b[1;33m\u001b[0m\u001b[0m\n\u001b[0m",
      "\u001b[1;32mc:\\users\\koehler_s\\appdata\\local\\programs\\python\\python39\\lib\\site-packages\\pandas\\core\\generic.py\u001b[0m in \u001b[0;36mto_excel\u001b[1;34m(self, excel_writer, sheet_name, na_rep, float_format, columns, header, index, index_label, startrow, startcol, engine, merge_cells, encoding, inf_rep, verbose, freeze_panes, storage_options)\u001b[0m\n\u001b[0;32m   2186\u001b[0m             \u001b[0minf_rep\u001b[0m\u001b[1;33m=\u001b[0m\u001b[0minf_rep\u001b[0m\u001b[1;33m,\u001b[0m\u001b[1;33m\u001b[0m\u001b[1;33m\u001b[0m\u001b[0m\n\u001b[0;32m   2187\u001b[0m         )\n\u001b[1;32m-> 2188\u001b[1;33m         formatter.write(\n\u001b[0m\u001b[0;32m   2189\u001b[0m             \u001b[0mexcel_writer\u001b[0m\u001b[1;33m,\u001b[0m\u001b[1;33m\u001b[0m\u001b[1;33m\u001b[0m\u001b[0m\n\u001b[0;32m   2190\u001b[0m             \u001b[0msheet_name\u001b[0m\u001b[1;33m=\u001b[0m\u001b[0msheet_name\u001b[0m\u001b[1;33m,\u001b[0m\u001b[1;33m\u001b[0m\u001b[1;33m\u001b[0m\u001b[0m\n",
      "\u001b[1;32mc:\\users\\koehler_s\\appdata\\local\\programs\\python\\python39\\lib\\site-packages\\pandas\\io\\formats\\excel.py\u001b[0m in \u001b[0;36mwrite\u001b[1;34m(self, writer, sheet_name, startrow, startcol, freeze_panes, engine, storage_options)\u001b[0m\n\u001b[0;32m    813\u001b[0m             \u001b[1;31m# abstract class 'ExcelWriter' with abstract attributes 'engine',\u001b[0m\u001b[1;33m\u001b[0m\u001b[1;33m\u001b[0m\u001b[1;33m\u001b[0m\u001b[0m\n\u001b[0;32m    814\u001b[0m             \u001b[1;31m# 'save', 'supported_extensions' and 'write_cells'  [abstract]\u001b[0m\u001b[1;33m\u001b[0m\u001b[1;33m\u001b[0m\u001b[1;33m\u001b[0m\u001b[0m\n\u001b[1;32m--> 815\u001b[1;33m             writer = ExcelWriter(  # type: ignore[abstract]\n\u001b[0m\u001b[0;32m    816\u001b[0m                 \u001b[0mwriter\u001b[0m\u001b[1;33m,\u001b[0m \u001b[0mengine\u001b[0m\u001b[1;33m=\u001b[0m\u001b[0mengine\u001b[0m\u001b[1;33m,\u001b[0m \u001b[0mstorage_options\u001b[0m\u001b[1;33m=\u001b[0m\u001b[0mstorage_options\u001b[0m\u001b[1;33m\u001b[0m\u001b[1;33m\u001b[0m\u001b[0m\n\u001b[0;32m    817\u001b[0m             )\n",
      "\u001b[1;32mc:\\users\\koehler_s\\appdata\\local\\programs\\python\\python39\\lib\\site-packages\\pandas\\io\\excel\\_openpyxl.py\u001b[0m in \u001b[0;36m__init__\u001b[1;34m(self, path, engine, mode, storage_options, **engine_kwargs)\u001b[0m\n\u001b[0;32m     30\u001b[0m         \u001b[1;32mfrom\u001b[0m \u001b[0mopenpyxl\u001b[0m\u001b[1;33m.\u001b[0m\u001b[0mworkbook\u001b[0m \u001b[1;32mimport\u001b[0m \u001b[0mWorkbook\u001b[0m\u001b[1;33m\u001b[0m\u001b[1;33m\u001b[0m\u001b[0m\n\u001b[0;32m     31\u001b[0m \u001b[1;33m\u001b[0m\u001b[0m\n\u001b[1;32m---> 32\u001b[1;33m         super().__init__(\n\u001b[0m\u001b[0;32m     33\u001b[0m             \u001b[0mpath\u001b[0m\u001b[1;33m,\u001b[0m \u001b[0mmode\u001b[0m\u001b[1;33m=\u001b[0m\u001b[0mmode\u001b[0m\u001b[1;33m,\u001b[0m \u001b[0mstorage_options\u001b[0m\u001b[1;33m=\u001b[0m\u001b[0mstorage_options\u001b[0m\u001b[1;33m,\u001b[0m \u001b[1;33m**\u001b[0m\u001b[0mengine_kwargs\u001b[0m\u001b[1;33m\u001b[0m\u001b[1;33m\u001b[0m\u001b[0m\n\u001b[0;32m     34\u001b[0m         )\n",
      "\u001b[1;32mc:\\users\\koehler_s\\appdata\\local\\programs\\python\\python39\\lib\\site-packages\\pandas\\io\\excel\\_base.py\u001b[0m in \u001b[0;36m__init__\u001b[1;34m(self, path, engine, date_format, datetime_format, mode, storage_options, **engine_kwargs)\u001b[0m\n\u001b[0;32m    808\u001b[0m         \u001b[0mself\u001b[0m\u001b[1;33m.\u001b[0m\u001b[0mhandles\u001b[0m \u001b[1;33m=\u001b[0m \u001b[0mIOHandles\u001b[0m\u001b[1;33m(\u001b[0m\u001b[0mcast\u001b[0m\u001b[1;33m(\u001b[0m\u001b[0mBuffer\u001b[0m\u001b[1;33m,\u001b[0m \u001b[0mpath\u001b[0m\u001b[1;33m)\u001b[0m\u001b[1;33m,\u001b[0m \u001b[0mcompression\u001b[0m\u001b[1;33m=\u001b[0m\u001b[1;33m{\u001b[0m\u001b[1;34m\"copression\"\u001b[0m\u001b[1;33m:\u001b[0m \u001b[1;32mNone\u001b[0m\u001b[1;33m}\u001b[0m\u001b[1;33m)\u001b[0m\u001b[1;33m\u001b[0m\u001b[1;33m\u001b[0m\u001b[0m\n\u001b[0;32m    809\u001b[0m         \u001b[1;32mif\u001b[0m \u001b[1;32mnot\u001b[0m \u001b[0misinstance\u001b[0m\u001b[1;33m(\u001b[0m\u001b[0mpath\u001b[0m\u001b[1;33m,\u001b[0m \u001b[0mExcelWriter\u001b[0m\u001b[1;33m)\u001b[0m\u001b[1;33m:\u001b[0m\u001b[1;33m\u001b[0m\u001b[1;33m\u001b[0m\u001b[0m\n\u001b[1;32m--> 810\u001b[1;33m             self.handles = get_handle(\n\u001b[0m\u001b[0;32m    811\u001b[0m                 \u001b[0mpath\u001b[0m\u001b[1;33m,\u001b[0m \u001b[0mmode\u001b[0m\u001b[1;33m,\u001b[0m \u001b[0mstorage_options\u001b[0m\u001b[1;33m=\u001b[0m\u001b[0mstorage_options\u001b[0m\u001b[1;33m,\u001b[0m \u001b[0mis_text\u001b[0m\u001b[1;33m=\u001b[0m\u001b[1;32mFalse\u001b[0m\u001b[1;33m\u001b[0m\u001b[1;33m\u001b[0m\u001b[0m\n\u001b[0;32m    812\u001b[0m             )\n",
      "\u001b[1;32mc:\\users\\koehler_s\\appdata\\local\\programs\\python\\python39\\lib\\site-packages\\pandas\\io\\common.py\u001b[0m in \u001b[0;36mget_handle\u001b[1;34m(path_or_buf, mode, encoding, compression, memory_map, is_text, errors, storage_options)\u001b[0m\n\u001b[0;32m    649\u001b[0m         \u001b[1;32melse\u001b[0m\u001b[1;33m:\u001b[0m\u001b[1;33m\u001b[0m\u001b[1;33m\u001b[0m\u001b[0m\n\u001b[0;32m    650\u001b[0m             \u001b[1;31m# Binary mode\u001b[0m\u001b[1;33m\u001b[0m\u001b[1;33m\u001b[0m\u001b[1;33m\u001b[0m\u001b[0m\n\u001b[1;32m--> 651\u001b[1;33m             \u001b[0mhandle\u001b[0m \u001b[1;33m=\u001b[0m \u001b[0mopen\u001b[0m\u001b[1;33m(\u001b[0m\u001b[0mhandle\u001b[0m\u001b[1;33m,\u001b[0m \u001b[0mioargs\u001b[0m\u001b[1;33m.\u001b[0m\u001b[0mmode\u001b[0m\u001b[1;33m)\u001b[0m\u001b[1;33m\u001b[0m\u001b[1;33m\u001b[0m\u001b[0m\n\u001b[0m\u001b[0;32m    652\u001b[0m         \u001b[0mhandles\u001b[0m\u001b[1;33m.\u001b[0m\u001b[0mappend\u001b[0m\u001b[1;33m(\u001b[0m\u001b[0mhandle\u001b[0m\u001b[1;33m)\u001b[0m\u001b[1;33m\u001b[0m\u001b[1;33m\u001b[0m\u001b[0m\n\u001b[0;32m    653\u001b[0m \u001b[1;33m\u001b[0m\u001b[0m\n",
      "\u001b[1;31mPermissionError\u001b[0m: [Errno 13] Permission denied: 'progemis/output.xlsx'"
     ]
    }
   ],
   "source": [
    "result.to_excel(\"progemis/output.xlsx\", index=False) "
   ]
  },
  {
   "cell_type": "code",
   "execution_count": 68,
   "id": "ec8a7aa9",
   "metadata": {},
   "outputs": [],
   "source": [
    "result.drop(indexNames , inplace=True)"
   ]
  },
  {
   "cell_type": "code",
   "execution_count": 19,
   "id": "809a0cab",
   "metadata": {},
   "outputs": [
    {
     "data": {
      "text/plain": [
       "array(['Basis-Unterhaltung', 'Intensive Unterhaltung',\n",
       "       'Ökologische Entwicklung'], dtype=object)"
      ]
     },
     "execution_count": 19,
     "metadata": {},
     "output_type": "execute_result"
    }
   ],
   "source": [
    "df['Unterhaltungsziel'].unique()"
   ]
  },
  {
   "cell_type": "code",
   "execution_count": 20,
   "id": "ada72d5b",
   "metadata": {},
   "outputs": [
    {
     "data": {
      "text/html": [
       "<div>\n",
       "<style scoped>\n",
       "    .dataframe tbody tr th:only-of-type {\n",
       "        vertical-align: middle;\n",
       "    }\n",
       "\n",
       "    .dataframe tbody tr th {\n",
       "        vertical-align: top;\n",
       "    }\n",
       "\n",
       "    .dataframe thead th {\n",
       "        text-align: right;\n",
       "    }\n",
       "</style>\n",
       "<table border=\"1\" class=\"dataframe\">\n",
       "  <thead>\n",
       "    <tr style=\"text-align: right;\">\n",
       "      <th></th>\n",
       "      <th>Checkbox</th>\n",
       "      <th>Name des Gewässers</th>\n",
       "      <th>Gewässer ID</th>\n",
       "      <th>Gewässerordnung</th>\n",
       "      <th>Gemeinde(n)</th>\n",
       "      <th>Landkreis</th>\n",
       "      <th>Zuständigkeit</th>\n",
       "      <th>Laufende Abschnittnummer</th>\n",
       "      <th>Unterhaltungsziel</th>\n",
       "    </tr>\n",
       "  </thead>\n",
       "  <tbody>\n",
       "    <tr>\n",
       "      <th>0</th>\n",
       "      <td>NaN</td>\n",
       "      <td>NaN</td>\n",
       "      <td>13804</td>\n",
       "      <td>0</td>\n",
       "      <td>Roßleben-Wiehe</td>\n",
       "      <td>Kyffhäuserkreis</td>\n",
       "      <td>Gewässerunterhaltungsverband</td>\n",
       "      <td>1</td>\n",
       "      <td>Basis-Unterhaltung</td>\n",
       "    </tr>\n",
       "    <tr>\n",
       "      <th>1</th>\n",
       "      <td>NaN</td>\n",
       "      <td>Lache</td>\n",
       "      <td>2340</td>\n",
       "      <td>2</td>\n",
       "      <td>Am Ettersberg</td>\n",
       "      <td>Weimarer Land</td>\n",
       "      <td>Gewässerunterhaltungsverband</td>\n",
       "      <td>4</td>\n",
       "      <td>Basis-Unterhaltung</td>\n",
       "    </tr>\n",
       "    <tr>\n",
       "      <th>2</th>\n",
       "      <td>NaN</td>\n",
       "      <td>Monna</td>\n",
       "      <td>2352</td>\n",
       "      <td>2</td>\n",
       "      <td>Kölleda</td>\n",
       "      <td>Sömmerda</td>\n",
       "      <td>Gewässerunterhaltungsverband</td>\n",
       "      <td>7</td>\n",
       "      <td>Basis-Unterhaltung</td>\n",
       "    </tr>\n",
       "    <tr>\n",
       "      <th>3</th>\n",
       "      <td>NaN</td>\n",
       "      <td>NaN</td>\n",
       "      <td>11948</td>\n",
       "      <td>0</td>\n",
       "      <td>Kölleda</td>\n",
       "      <td>Sömmerda</td>\n",
       "      <td>Gewässerunterhaltungsverband</td>\n",
       "      <td>1</td>\n",
       "      <td>Intensive Unterhaltung</td>\n",
       "    </tr>\n",
       "    <tr>\n",
       "      <th>4</th>\n",
       "      <td>NaN</td>\n",
       "      <td>Rassel</td>\n",
       "      <td>2338</td>\n",
       "      <td>2</td>\n",
       "      <td>Am Ettersberg</td>\n",
       "      <td>Weimarer Land</td>\n",
       "      <td>Gewässerunterhaltungsverband</td>\n",
       "      <td>11</td>\n",
       "      <td>Intensive Unterhaltung</td>\n",
       "    </tr>\n",
       "  </tbody>\n",
       "</table>\n",
       "</div>"
      ],
      "text/plain": [
       "   Checkbox Name des Gewässers  Gewässer ID  Gewässerordnung     Gemeinde(n)  \\\n",
       "0       NaN                NaN        13804                0  Roßleben-Wiehe   \n",
       "1       NaN              Lache         2340                2   Am Ettersberg   \n",
       "2       NaN              Monna         2352                2         Kölleda   \n",
       "3       NaN                NaN        11948                0         Kölleda   \n",
       "4       NaN             Rassel         2338                2   Am Ettersberg   \n",
       "\n",
       "         Landkreis                 Zuständigkeit  Laufende Abschnittnummer  \\\n",
       "0  Kyffhäuserkreis  Gewässerunterhaltungsverband                         1   \n",
       "1    Weimarer Land  Gewässerunterhaltungsverband                         4   \n",
       "2         Sömmerda  Gewässerunterhaltungsverband                         7   \n",
       "3         Sömmerda  Gewässerunterhaltungsverband                         1   \n",
       "4    Weimarer Land  Gewässerunterhaltungsverband                        11   \n",
       "\n",
       "        Unterhaltungsziel  \n",
       "0      Basis-Unterhaltung  \n",
       "1      Basis-Unterhaltung  \n",
       "2      Basis-Unterhaltung  \n",
       "3  Intensive Unterhaltung  \n",
       "4  Intensive Unterhaltung  "
      ]
     },
     "execution_count": 20,
     "metadata": {},
     "output_type": "execute_result"
    }
   ],
   "source": [
    "df.head()"
   ]
  },
  {
   "cell_type": "code",
   "execution_count": 15,
   "id": "00062027",
   "metadata": {},
   "outputs": [
    {
     "data": {
      "text/html": [
       "<div>\n",
       "<style scoped>\n",
       "    .dataframe tbody tr th:only-of-type {\n",
       "        vertical-align: middle;\n",
       "    }\n",
       "\n",
       "    .dataframe tbody tr th {\n",
       "        vertical-align: top;\n",
       "    }\n",
       "\n",
       "    .dataframe thead th {\n",
       "        text-align: right;\n",
       "    }\n",
       "</style>\n",
       "<table border=\"1\" class=\"dataframe\">\n",
       "  <thead>\n",
       "    <tr style=\"text-align: right;\">\n",
       "      <th></th>\n",
       "      <th>lfd.</th>\n",
       "      <th>GWK</th>\n",
       "      <th>Name Gewässer</th>\n",
       "      <th>lfd..1</th>\n",
       "      <th>GWK.1</th>\n",
       "      <th>Name Gewässer.1</th>\n",
       "    </tr>\n",
       "  </thead>\n",
       "  <tbody>\n",
       "    <tr>\n",
       "      <th>0</th>\n",
       "      <td>1</td>\n",
       "      <td>56436</td>\n",
       "      <td>Lossa</td>\n",
       "      <td>50</td>\n",
       "      <td>5643696</td>\n",
       "      <td>Gelber Graben</td>\n",
       "    </tr>\n",
       "  </tbody>\n",
       "</table>\n",
       "</div>"
      ],
      "text/plain": [
       "  lfd.    GWK Name Gewässer lfd..1    GWK.1 Name Gewässer.1\n",
       "0    1  56436         Lossa     50  5643696   Gelber Graben"
      ]
     },
     "execution_count": 15,
     "metadata": {},
     "output_type": "execute_result"
    }
   ],
   "source": [
    "df[df['GWK'] == 56436]"
   ]
  },
  {
   "cell_type": "code",
   "execution_count": 25,
   "id": "c139c933",
   "metadata": {},
   "outputs": [
    {
     "data": {
      "text/html": [
       "<div>\n",
       "<style scoped>\n",
       "    .dataframe tbody tr th:only-of-type {\n",
       "        vertical-align: middle;\n",
       "    }\n",
       "\n",
       "    .dataframe tbody tr th {\n",
       "        vertical-align: top;\n",
       "    }\n",
       "\n",
       "    .dataframe thead th {\n",
       "        text-align: right;\n",
       "    }\n",
       "</style>\n",
       "<table border=\"1\" class=\"dataframe\">\n",
       "  <thead>\n",
       "    <tr style=\"text-align: right;\">\n",
       "      <th></th>\n",
       "      <th>lfd.</th>\n",
       "      <th>GWK</th>\n",
       "      <th>Name Gewässer</th>\n",
       "      <th>lfd..1</th>\n",
       "      <th>GWK.1</th>\n",
       "      <th>Name Gewässer.1</th>\n",
       "    </tr>\n",
       "  </thead>\n",
       "  <tbody>\n",
       "    <tr>\n",
       "      <th>0</th>\n",
       "      <td>1</td>\n",
       "      <td>56436</td>\n",
       "      <td>Lossa</td>\n",
       "      <td>50</td>\n",
       "      <td>5643696</td>\n",
       "      <td>Gelber Graben</td>\n",
       "    </tr>\n",
       "    <tr>\n",
       "      <th>1</th>\n",
       "      <td>2</td>\n",
       "      <td>56472</td>\n",
       "      <td>Flutgraben</td>\n",
       "      <td>51</td>\n",
       "      <td>5643712</td>\n",
       "      <td>Langer Graben</td>\n",
       "    </tr>\n",
       "    <tr>\n",
       "      <th>2</th>\n",
       "      <td>3</td>\n",
       "      <td>56474</td>\n",
       "      <td>Solgraben</td>\n",
       "      <td>52</td>\n",
       "      <td>5643722</td>\n",
       "      <td>Graben von der Kiebitzhöhe</td>\n",
       "    </tr>\n",
       "    <tr>\n",
       "      <th>3</th>\n",
       "      <td>4</td>\n",
       "      <td>56476</td>\n",
       "      <td>Kleine Helme</td>\n",
       "      <td>53</td>\n",
       "      <td>5643724</td>\n",
       "      <td>Riedgraben</td>\n",
       "    </tr>\n",
       "    <tr>\n",
       "      <th>4</th>\n",
       "      <td>5</td>\n",
       "      <td>56488</td>\n",
       "      <td>Rohne</td>\n",
       "      <td>54</td>\n",
       "      <td>5643726</td>\n",
       "      <td>Dermsdorfer Graben</td>\n",
       "    </tr>\n",
       "    <tr>\n",
       "      <th>...</th>\n",
       "      <td>...</td>\n",
       "      <td>...</td>\n",
       "      <td>...</td>\n",
       "      <td>...</td>\n",
       "      <td>...</td>\n",
       "      <td>...</td>\n",
       "    </tr>\n",
       "    <tr>\n",
       "      <th>444</th>\n",
       "      <td>829</td>\n",
       "      <td>99996125</td>\n",
       "      <td>Gr_Geho_018</td>\n",
       "      <td>NaN</td>\n",
       "      <td>NaN</td>\n",
       "      <td>NaN</td>\n",
       "    </tr>\n",
       "    <tr>\n",
       "      <th>445</th>\n",
       "      <td>830</td>\n",
       "      <td>99996126</td>\n",
       "      <td>Gr_Geho_019</td>\n",
       "      <td>NaN</td>\n",
       "      <td>NaN</td>\n",
       "      <td>NaN</td>\n",
       "    </tr>\n",
       "    <tr>\n",
       "      <th>446</th>\n",
       "      <td>831</td>\n",
       "      <td>99996127</td>\n",
       "      <td>Gr_Ritt_033</td>\n",
       "      <td>NaN</td>\n",
       "      <td>NaN</td>\n",
       "      <td>NaN</td>\n",
       "    </tr>\n",
       "    <tr>\n",
       "      <th>447</th>\n",
       "      <td>832</td>\n",
       "      <td>99996128</td>\n",
       "      <td>Gr_Wieh_027</td>\n",
       "      <td>NaN</td>\n",
       "      <td>NaN</td>\n",
       "      <td>NaN</td>\n",
       "    </tr>\n",
       "    <tr>\n",
       "      <th>448</th>\n",
       "      <td>833</td>\n",
       "      <td>99996129</td>\n",
       "      <td>Gr_Wieh_028</td>\n",
       "      <td>NaN</td>\n",
       "      <td>NaN</td>\n",
       "      <td>NaN</td>\n",
       "    </tr>\n",
       "  </tbody>\n",
       "</table>\n",
       "<p>449 rows × 6 columns</p>\n",
       "</div>"
      ],
      "text/plain": [
       "    lfd.       GWK Name Gewässer lfd..1    GWK.1             Name Gewässer.1\n",
       "0      1     56436         Lossa     50  5643696               Gelber Graben\n",
       "1      2     56472    Flutgraben     51  5643712               Langer Graben\n",
       "2      3     56474     Solgraben     52  5643722  Graben von der Kiebitzhöhe\n",
       "3      4     56476  Kleine Helme     53  5643724                  Riedgraben\n",
       "4      5     56488         Rohne     54  5643726          Dermsdorfer Graben\n",
       "..   ...       ...           ...    ...      ...                         ...\n",
       "444  829  99996125   Gr_Geho_018    NaN      NaN                         NaN\n",
       "445  830  99996126   Gr_Geho_019    NaN      NaN                         NaN\n",
       "446  831  99996127   Gr_Ritt_033    NaN      NaN                         NaN\n",
       "447  832  99996128   Gr_Wieh_027    NaN      NaN                         NaN\n",
       "448  833  99996129   Gr_Wieh_028    NaN      NaN                         NaN\n",
       "\n",
       "[449 rows x 6 columns]"
      ]
     },
     "execution_count": 25,
     "metadata": {},
     "output_type": "execute_result"
    }
   ],
   "source": [
    "df"
   ]
  }
 ],
 "metadata": {
  "kernelspec": {
   "display_name": "Python 3",
   "language": "python",
   "name": "python3"
  },
  "language_info": {
   "codemirror_mode": {
    "name": "ipython",
    "version": 3
   },
   "file_extension": ".py",
   "mimetype": "text/x-python",
   "name": "python",
   "nbconvert_exporter": "python",
   "pygments_lexer": "ipython3",
   "version": "3.9.5"
  }
 },
 "nbformat": 4,
 "nbformat_minor": 5
}
