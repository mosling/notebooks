{
 "cells": [
  {
   "cell_type": "code",
   "execution_count": 5,
   "id": "b22ba71f",
   "metadata": {},
   "outputs": [],
   "source": [
    "import base64"
   ]
  },
  {
   "cell_type": "code",
   "execution_count": 16,
   "id": "884f3b9e",
   "metadata": {},
   "outputs": [],
   "source": [
    "ico=\"42 4D 36 04 00 00 00 00 00 00 36 00 00 00 28 00 00 00 10 00 00 00 10 00 00 00 01 00 20 00 00 00 00 00 00 04 00 00 00 00 00 00 00 00 00 00 00 00 00 00 00 00 00 00 FF FF FF 00 FF FF FF 00 FF FF FF 00 FF FF FF 00 FF FF FF 00 FF FF FF 00 FF FF FF 00 FF FF FF 00 FF FF FF 00 FF FF FF 00 FF FF FF 00 FF FF FF 00 FF FF FF 00 FF FF FF 00 FF FF FF 00 FF FF FF 00 FF FF FF 00 FF FF FF 00 FF FF FF 00 FF FF FF 00 FF FF FF 00 FF FF FF 00 FF FF FF 00 FF FF FF 00 FF FF FF 00 FF FF FF 00 FF FF FF 00 FF FF FF 00 FF FF FF 00 FF FF FF 00 FF FF FF 00 FF FF FF 00 FF FF FF 00 FF FF FF 00 FF FF FF 00 FF FF FF 00 FF FF FF 00 FF FF FF 00 FF FF FF 00 FF FF FF 00 FF FF FF 00 FF FF FF 00 FF FF FF 00 FF FF FF 00 FF FF FF 00 FF FF FF 00 FF FF FF 00 FF FF FF 00 FF EB D0 00 FF FC F9 00 FF FF FF 00 FF FF FF 00 FF FF FF 00 FF FE FE 00 FF FA F4 00 FF ED D5 00 FF E7 C8 00 FF E7 C6 00 FF EE D7 00 FF F0 DC 00 FF F0 DC 00 FF F0 DD 00 FF FC F9 00 FF FF FF 00 FF AD 3D 00 FF D7 A2 00 FF FB F9 00 FF FF FF 00 FF FD FB 00 FF EC D3 00 FF C9 80 00 FF B4 4D 00 FF AA 37 00 FF A6 2C 00 FF A9 34 00 FF B0 45 00 FF B7 55 00 FF B8 59 00 FF DF B3 00 FF FC F8 00 FF 96 07 00 FF 9F 1B 00 FF DC AD 00 FF FA F5 00 FF E3 BD 00 FF B2 49 00 FF 9E 1A 00 FF 9B 11 00 FF 98 0C 00 FF 96 05 00 FF 95 04 00 FF 96 06 00 FF 99 0C 00 FF 9D 16 00 FF AD 3D 00 FF E8 CA 00 FF 94 02 00 FF 94 00 00 FF A0 1C 00 FF BA 5D 00 FF AB 39 00 FF 9B 12 00 FF 9A 0E 00 FF 96 05 00 FF 95 03 00 FF 96 05 00 FF 96 06 00 FF 95 02 00 FF 95 02 00 FF 97 08 00 FF 9A 0F 00 FF BC 61 00 FF 99 0C 00 FF 94 00 00 FF 94 00 00 FF 95 04 00 FF 97 08 00 FF 96 06 00 FF 95 03 00 FF 94 02 00 FF 96 06 00 FF 9B 13 00 FF 9E 19 00 FF 99 0D 00 FF 96 05 00 FF 95 02 00 FF 95 03 00 FF 9D 17 00 FF BF 67 00 FF 95 04 00 FF 94 02 00 FF 96 06 00 FF 96 06 00 FF 94 02 00 FF 95 04 00 FF A0 1D 00 FF BF 68 00 FF D8 A5 00 FF DA A8 00 FF BF 69 00 FF A0 1E 00 FF 96 07 00 FF 95 04 00 FF 9E 19 00 FF F3 E3 00 FF AF 42 00 FF 96 07 00 FF 95 04 00 FF 95 04 00 FF 96 07 00 FF AC 3B 00 FF E4 BF 00 FF F9 F3 00 FF FE FE 00 FF FE FE 00 FF F7 EC 00 FF DB AB 00 FF B2 49 00 FF 99 0E 00 FF 9E 19 00 FF FD FD 00 FF EF DB 00 FF BB 60 00 FF A5 29 00 FF A6 2C 00 FF BC 5F 00 FF F1 DE 00 FF FF FF 00 FF FF FF 00 FF FF FF 00 FF FF FF 00 FF FF FF 00 FF FE FD 00 FF F0 DF 00 FF CD 8B 00 FF CD 8A 00 FF FF FF 00 FF FE FE 00 FF F8 F1 00 FF E5 C2 00 FF E5 C4 00 FF F7 EF 00 FF FE FE 00 FF FF FF 00 FF FF FF 00 FF FF FF 00 FF FF FF 00 FF FF FF 00 FF FF FF 00 FF FE FE 00 FF FB F9 00 FF FA F5 00 FF FF FF 00 FF FF FF 00 FF FF FF 00 FF FF FF 00 FF FF FF 00 FF FF FF 00 FF FF FF 00 FF FF FF 00 FF FF FF 00 FF FF FF 00 FF FF FF 00 FF FF FF 00 FF FF FF 00 FF FF FF 00 FF FF FF 00 FF FF FF 00 FF FF FF 00 FF FF FF 00 FF FF FF 00 FF FF FF 00 FF FF FF 00 FF FF FF 00 FF FF FF 00 FF FF FF 00 FF FF FF 00 FF FF FF 00 FF FF FF 00 FF FF FF 00 FF FF FF 00 FF FF FF 00 FF FF FF 00 FF FF FF 00 FF FF FF 00 FF FF FF 00 FF FF FF 00 FF FF FF 00 FF FF FF 00 FF FF FF 00 FF FF FF 00 FF FF FF 00 FF FF FF 00 FF FF FF 00 FF FF FF 00 FF FF FF 00 FF FF FF 00 FF FF FF 00 FF FF FF 00 FF FF FF 00 FF FF FF 00 FF FF FF 00 FF FF FF 00 FF FF FF 00 FF FF FF 00 FF FF FF 00 FF FF FF 00 FF FF FF 00 FF FF FF 00 FF FF FF 00 FF FF FF 00 FF FF FF 00 FF FF FF 00 FF FF FF 00 FF FF FF 00 FF FF FF 00\"\n",
    "qt =\"42 4d 36 04 00 00 00 00 00 00 36 00 00 00 28 00 00 00 10 00 00 00 10 00 00 00 01 00 20 00 00 00 00 00 00 04 00 00 00 00 00 00 00 00 00 00 00 00 00 00 00 00 00 00 ff ff ff 00 ff ff ff 00 ff ff ff 00 ff ff ff 00 ff ff ff 00 ff ff ff 00 ff ff ff 00 ff ff ff 00 ff ff ff 00 ff ff ff 00 ff ff ff 00 ff ff ff 00 ff ff ff 00 ff ff ff 00 ff ff ff 00 ff ff ff 00 ff ff ff 00 ff ff ff 00 ff ff ff 00 ff ff ff 00 ff ff ff 00 ff ff ff 00 ff ff ff 00 ff ff ff 00 ff ff ff 00 ff ff ff 00 ff ff ff 00 ff ff ff 00 ff ff ff 00 ff ff ff 00 ff ff ff 00 ff ff ff 00 ff ff ff 00 ff ff ff 00 ff ff ff 00 ff ff ff 00 ff ff ff 00 ff ff ff 00 ff ff ff 00 ff ff ff 00 ff ff ff 00 ff ff ff 00 ff ff ff 00 ff ff ff 00 ff ff ff 00 ff ff ff 00 ff ff ff 00 ff ff ff 00 ff eb d0 00 ff fc f9 00 ff ff ff 00 ff ff ff 00 ff ff ff 00 ff fe fe 00 ff fa f4 00 ff ed d5 00 ff e7 c8 00 ff e7 c6 00 ff ee d7 00 ff f0 dc 00 ff f0 dc 00 ff f0 dd 00 ff fc f9 00 ff ff ff 00 ff ad 3d 00 ff d7 a2 00 ff fb f9 00 ff ff ff 00 ff fd fb 00 ff ec d3 00 ff c9 80 00 ff b4 4d 00 ff aa 37 00 ff a6 2c 00 ff a9 34 00 ff b0 45 00 ff b7 55 00 ff b8 59 00 ff df b3 00 ff fc f8 00 ff 96 07 00 ff 9f 1b 00 ff dc ad 00 ff fa f5 00 ff e3 bd 00 ff b2 49 00 ff 9e 1a 00 ff 9b 11 00 ff 98 0c 00 ff 96 05 00 ff 95 04 00 ff 96 06 00 ff 99 0c 00 ff 9d 16 00 ff ad 3d 00 ff e8 ca 00 ff 94 02 00 ff 94 00 00 ff a0 1c 00 ff ba 5d 00 ff ab 39 00 ff 9b 12 00 ff 9a 0e 00 ff 96 05 00 ff 95 03 00 ff 96 05 00 ff 96 06 00 ff 95 02 00 ff 95 02 00 ff 97 08 00 ff 9a 0f 00 ff bc 61 00 ff 99 0c 00 ff 94 00 00 ff 94 00 00 ff 95 04 00 ff 97 08 00 ff 96 06 00 ff 95 03 00 ff 94 02 00 ff 96 06 00 ff 9b 13 00 ff 9e 19 00 ff 99 0d 00 ff 96 05 00 ff 95 02 00 ff 95 03 00 ff 9d 17 00 ff bf 67 00 ff 95 04 00 ff 94 02 00 ff 96 06 00 ff 96 06 00 ff 94 02 00 ff 95 04 00 ff a0 1d 00 ff bf 68 00 ff d8 a5 00 ff da a8 00 ff bf 69 00 ff a0 1e 00 ff 96 07 00 ff 95 04 00 ff 9e 19 00 ff f3 e3 00 ff af 42 00 ff 96 07 00 ff 95 04 00 ff 95 04 00 ff 96 07 00 ff ac 3b 00 ff e4 bf 00 ff f9 f3 00 ff fe fe 00 ff fe fe 00 ff f7 ec 00 ff db ab 00 ff b2 49 00 ff 99 0e 00 ff 9e 19 00 ff fd fd 00 ff ef db 00 ff bb 60 00 ff a5 29 00 ff a6 2c 00 ff bc 5f 00 ff f1 de 00 ff ff ff 00 ff ff ff 00 ff ff ff 00 ff ff ff 00 ff ff ff 00 ff fe fd 00 ff f0 df 00 ff cd 8b 00 ff cd 8a 00 ff ff ff 00 ff fe fe 00 ff f8 f1 00 ff e5 c2 00 ff e5 c4 00 ff f7 ef 00 ff fe fe 00 ff ff ff 00 ff ff ff 00 ff ff ff 00 ff ff ff 00 ff ff ff 00 ff ff ff 00 ff fe fe 00 ff fb f9 00 ff fa f5 00 ff ff ff 00 ff ff ff 00 ff ff ff 00 ff ff ff 00 ff ff ff 00 ff ff ff 00 ff ff ff 00 ff ff ff 00 ff ff ff 00 ff ff ff 00 ff ff ff 00 ff ff ff 00 ff ff ff 00 ff ff ff 00 ff ff ff 00 ff ff ff 00 ff ff ff 00 ff ff ff 00 ff ff ff 00 ff ff ff 00 ff ff ff 00 ff ff ff 00 ff ff ff 00 ff ff ff 00 ff ff ff 00 ff ff ff 00 ff ff ff 00 ff ff ff 00 ff ff ff 00 ff ff ff 00 ff ff ff 00 ff ff ff 00 ff ff ff 00 ff ff ff 00 ff ff ff 00 ff ff ff 00 ff ff ff 00 ff ff ff 00 ff ff ff 00 ff ff ff 00 ff ff ff 00 ff ff ff 00 ff ff ff 00 ff ff ff 00 ff ff ff 00 ff ff ff 00 ff ff ff 00 ff ff ff 00 ff ff ff 00 ff ff ff 00 ff ff ff 00 ff ff ff 00 ff ff ff 00 ff ff ff 00 ff ff ff 00 ff ff ff 00 ff ff ff 00 ff ff ff 00 ff ff ff 00 ff ff ff 00 ff ff ff 00 ff ff ff 00 ff ff ff 00 ff ff ff 00\""
   ]
  },
  {
   "cell_type": "code",
   "execution_count": 17,
   "id": "84ecf2d8",
   "metadata": {},
   "outputs": [
    {
     "data": {
      "text/plain": [
       "b'Qk02BAAAAAAAADYAAAAoAAAAEAAAABAAAAABACAAAAAAAAAEAAAAAAAAAAAAAAAAAAAAAAAA////AP///wD///8A////AP///wD///8A////AP///wD///8A////AP///wD///8A////AP///wD///8A////AP///wD///8A////AP///wD///8A////AP///wD///8A////AP///wD///8A////AP///wD///8A////AP///wD///8A////AP///wD///8A////AP///wD///8A////AP///wD///8A////AP///wD///8A////AP///wD///8A/+vQAP/8+QD///8A////AP///wD//v4A//r0AP/t1QD/58gA/+fGAP/u1wD/8NwA//DcAP/w3QD//PkA////AP+tPQD/16IA//v5AP///wD//fsA/+zTAP/JgAD/tE0A/6o3AP+mLAD/qTQA/7BFAP+3VQD/uFkA/9+zAP/8+AD/lgcA/58bAP/crQD/+vUA/+O9AP+ySQD/nhoA/5sRAP+YDAD/lgUA/5UEAP+WBgD/mQwA/50WAP+tPQD/6MoA/5QCAP+UAAD/oBwA/7pdAP+rOQD/mxIA/5oOAP+WBQD/lQMA/5YFAP+WBgD/lQIA/5UCAP+XCAD/mg8A/7xhAP+ZDAD/lAAA/5QAAP+VBAD/lwgA/5YGAP+VAwD/lAIA/5YGAP+bEwD/nhkA/5kNAP+WBQD/lQIA/5UDAP+dFwD/v2cA/5UEAP+UAgD/lgYA/5YGAP+UAgD/lQQA/6AdAP+/aAD/2KUA/9qoAP+/aQD/oB4A/5YHAP+VBAD/nhkA//PjAP+vQgD/lgcA/5UEAP+VBAD/lgcA/6w7AP/kvwD/+fMA//7+AP/+/gD/9+wA/9urAP+ySQD/mQ4A/54ZAP/9/QD/79sA/7tgAP+lKQD/piwA/7xfAP/x3gD///8A////AP///wD///8A////AP/+/QD/8N8A/82LAP/NigD///8A//7+AP/48QD/5cIA/+XEAP/37wD//v4A////AP///wD///8A////AP///wD///8A//7+AP/7+QD/+vUA////AP///wD///8A////AP///wD///8A////AP///wD///8A////AP///wD///8A////AP///wD///8A////AP///wD///8A////AP///wD///8A////AP///wD///8A////AP///wD///8A////AP///wD///8A////AP///wD///8A////AP///wD///8A////AP///wD///8A////AP///wD///8A////AP///wD///8A////AP///wD///8A////AP///wD///8A////AP///wD///8A////AP///wD///8A////AP///wD///8A////AP///wD///8A////AA=='"
      ]
     },
     "execution_count": 17,
     "metadata": {},
     "output_type": "execute_result"
    }
   ],
   "source": [
    "baqt = bytearray.fromhex(qt)\n",
    "base64.b64encode(baqt)"
   ]
  },
  {
   "cell_type": "code",
   "execution_count": 4,
   "id": "39c8f615",
   "metadata": {},
   "outputs": [],
   "source": [
    "ba = bytearray.fromhex(ico)"
   ]
  },
  {
   "cell_type": "code",
   "execution_count": 7,
   "id": "c354cd0c",
   "metadata": {},
   "outputs": [],
   "source": [
    "encoded = base64.b64encode(ba)"
   ]
  },
  {
   "cell_type": "code",
   "execution_count": 8,
   "id": "454f0c74",
   "metadata": {},
   "outputs": [
    {
     "data": {
      "text/plain": [
       "b'Qk02BAAAAAAAADYAAAAoAAAAEAAAABAAAAABACAAAAAAAAAEAAAAAAAAAAAAAAAAAAAAAAAA////AP///wD///8A////AP///wD///8A////AP///wD///8A////AP///wD///8A////AP///wD///8A////AP///wD///8A////AP///wD///8A////AP///wD///8A////AP///wD///8A////AP///wD///8A////AP///wD///8A////AP///wD///8A////AP///wD///8A////AP///wD///8A////AP///wD///8A////AP///wD///8A/+vQAP/8+QD///8A////AP///wD//v4A//r0AP/t1QD/58gA/+fGAP/u1wD/8NwA//DcAP/w3QD//PkA////AP+tPQD/16IA//v5AP///wD//fsA/+zTAP/JgAD/tE0A/6o3AP+mLAD/qTQA/7BFAP+3VQD/uFkA/9+zAP/8+AD/lgcA/58bAP/crQD/+vUA/+O9AP+ySQD/nhoA/5sRAP+YDAD/lgUA/5UEAP+WBgD/mQwA/50WAP+tPQD/6MoA/5QCAP+UAAD/oBwA/7pdAP+rOQD/mxIA/5oOAP+WBQD/lQMA/5YFAP+WBgD/lQIA/5UCAP+XCAD/mg8A/7xhAP+ZDAD/lAAA/5QAAP+VBAD/lwgA/5YGAP+VAwD/lAIA/5YGAP+bEwD/nhkA/5kNAP+WBQD/lQIA/5UDAP+dFwD/v2cA/5UEAP+UAgD/lgYA/5YGAP+UAgD/lQQA/6AdAP+/aAD/2KUA/9qoAP+/aQD/oB4A/5YHAP+VBAD/nhkA//PjAP+vQgD/lgcA/5UEAP+VBAD/lgcA/6w7AP/kvwD/+fMA//7+AP/+/gD/9+wA/9urAP+ySQD/mQ4A/54ZAP/9/QD/79sA/7tgAP+lKQD/piwA/7xfAP/x3gD///8A////AP///wD///8A////AP/+/QD/8N8A/82LAP/NigD///8A//7+AP/48QD/5cIA/+XEAP/37wD//v4A////AP///wD///8A////AP///wD///8A//7+AP/7+QD/+vUA////AP///wD///8A////AP///wD///8A////AP///wD///8A////AP///wD///8A////AP///wD///8A////AP///wD///8A////AP///wD///8A////AP///wD///8A////AP///wD///8A////AP///wD///8A////AP///wD///8A////AP///wD///8A////AP///wD///8A////AP///wD///8A////AP///wD///8A////AP///wD///8A////AP///wD///8A////AP///wD///8A////AP///wD///8A////AP///wD///8A////AP///wD///8A////AA=='"
      ]
     },
     "execution_count": 8,
     "metadata": {},
     "output_type": "execute_result"
    }
   ],
   "source": [
    "encoded"
   ]
  },
  {
   "cell_type": "code",
   "execution_count": null,
   "id": "97a63263",
   "metadata": {},
   "outputs": [],
   "source": []
  }
 ],
 "metadata": {
  "kernelspec": {
   "display_name": "Python 3",
   "language": "python",
   "name": "python3"
  },
  "language_info": {
   "codemirror_mode": {
    "name": "ipython",
    "version": 3
   },
   "file_extension": ".py",
   "mimetype": "text/x-python",
   "name": "python",
   "nbconvert_exporter": "python",
   "pygments_lexer": "ipython3",
   "version": "3.9.5"
  }
 },
 "nbformat": 4,
 "nbformat_minor": 5
}
