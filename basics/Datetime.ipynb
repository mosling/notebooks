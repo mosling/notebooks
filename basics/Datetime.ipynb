{
 "cells": [
  {
   "cell_type": "code",
   "execution_count": 11,
   "id": "eb9e1d58",
   "metadata": {},
   "outputs": [],
   "source": [
    "from dateutil import parser"
   ]
  },
  {
   "cell_type": "code",
   "execution_count": 20,
   "id": "046e5cbf",
   "metadata": {},
   "outputs": [],
   "source": [
    "t1 = parser.parse('2022-04-22T09:27:12.302+0200')\n",
    "t2 = parser.parse('2022-04-22T09:27:12.303+0200')"
   ]
  },
  {
   "cell_type": "code",
   "execution_count": 21,
   "id": "cac35558",
   "metadata": {},
   "outputs": [],
   "source": [
    "d = parser.parse('1000-01-01T10:10:10.000+0000')"
   ]
  },
  {
   "cell_type": "code",
   "execution_count": 22,
   "id": "f26a3435",
   "metadata": {},
   "outputs": [
    {
     "data": {
      "text/plain": [
       "True"
      ]
     },
     "execution_count": 22,
     "metadata": {},
     "output_type": "execute_result"
    }
   ],
   "source": [
    "d < t"
   ]
  },
  {
   "cell_type": "code",
   "execution_count": 23,
   "id": "52e15115",
   "metadata": {},
   "outputs": [
    {
     "data": {
      "text/plain": [
       "False"
      ]
     },
     "execution_count": 23,
     "metadata": {},
     "output_type": "execute_result"
    }
   ],
   "source": [
    "t1 > t2"
   ]
  },
  {
   "cell_type": "code",
   "execution_count": 26,
   "id": "41f970a5",
   "metadata": {},
   "outputs": [
    {
     "data": {
      "text/plain": [
       "'2022-04-22 09:27:12'"
      ]
     },
     "execution_count": 26,
     "metadata": {},
     "output_type": "execute_result"
    }
   ],
   "source": [
    "t1.strftime(\"%Y-%m-%d %H:%M:%S\")"
   ]
  },
  {
   "cell_type": "code",
   "execution_count": null,
   "id": "593b8f89",
   "metadata": {},
   "outputs": [],
   "source": []
  }
 ],
 "metadata": {
  "kernelspec": {
   "display_name": "Python 3",
   "language": "python",
   "name": "python3"
  },
  "language_info": {
   "codemirror_mode": {
    "name": "ipython",
    "version": 3
   },
   "file_extension": ".py",
   "mimetype": "text/x-python",
   "name": "python",
   "nbconvert_exporter": "python",
   "pygments_lexer": "ipython3",
   "version": "3.9.5"
  }
 },
 "nbformat": 4,
 "nbformat_minor": 5
}
