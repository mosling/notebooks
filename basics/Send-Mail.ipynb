{
 "cells": [
  {
   "cell_type": "code",
   "execution_count": 14,
   "id": "5ff653e2",
   "metadata": {},
   "outputs": [],
   "source": [
    "# smtplib Module importieren\n",
    "import smtplib\n",
    "from email.mime.multipart import MIMEMultipart\n",
    "from email.mime.text import MIMEText"
   ]
  },
  {
   "cell_type": "code",
   "execution_count": 15,
   "id": "cebd94d2",
   "metadata": {},
   "outputs": [
    {
     "data": {
      "text/plain": [
       "(220, b'2.0.0 SMTP server ready')"
      ]
     },
     "execution_count": 15,
     "metadata": {},
     "output_type": "execute_result"
    }
   ],
   "source": [
    "\n",
    "# SMTP-Server einrichten\n",
    "s = smtplib.SMTP(host='exchangesrv2.esngroup.de', port=587)\n",
    "s.starttls()"
   ]
  },
  {
   "cell_type": "code",
   "execution_count": 16,
   "id": "9059470e",
   "metadata": {},
   "outputs": [
    {
     "data": {
      "text/plain": [
       "{}"
      ]
     },
     "execution_count": 16,
     "metadata": {},
     "output_type": "execute_result"
    }
   ],
   "source": [
    "msg = MIMEMultipart() \n",
    "msg['From']=\"steffen.koehler@esn.de\"\n",
    "msg['To']=\"steffen.koehler@esn.de\"\n",
    "msg['Subject']=\"Testmail (2)\"\n",
    "msg.attach(MIMEText(\"Testblock34\", 'plain'))\n",
    "        \n",
    "s.send_message(msg)"
   ]
  },
  {
   "cell_type": "code",
   "execution_count": null,
   "id": "10b1bc8e",
   "metadata": {},
   "outputs": [],
   "source": []
  }
 ],
 "metadata": {
  "kernelspec": {
   "display_name": "Python 3",
   "language": "python",
   "name": "python3"
  },
  "language_info": {
   "codemirror_mode": {
    "name": "ipython",
    "version": 3
   },
   "file_extension": ".py",
   "mimetype": "text/x-python",
   "name": "python",
   "nbconvert_exporter": "python",
   "pygments_lexer": "ipython3",
   "version": "3.9.5"
  }
 },
 "nbformat": 4,
 "nbformat_minor": 5
}
