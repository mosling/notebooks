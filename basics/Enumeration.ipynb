{
 "cells": [
  {
   "cell_type": "code",
   "execution_count": 3,
   "id": "6bf9b7de",
   "metadata": {},
   "outputs": [],
   "source": [
    "from enum import Enum"
   ]
  },
  {
   "cell_type": "code",
   "execution_count": 25,
   "id": "8fd0f809",
   "metadata": {},
   "outputs": [],
   "source": [
    "class NodeType(Enum):\n",
    "    source = 'source'\n",
    "    target = 'target'\n",
    "    reference = 'reference'\n",
    "    information = 'information'\n",
    "    function = 'function'\n",
    "    parent = 'parent'\n",
    "\n",
    "    @classmethod\n",
    "    def has_value(cls, value):\n",
    "        return value in cls._value2member_map_"
   ]
  },
  {
   "cell_type": "code",
   "execution_count": 28,
   "id": "04250563",
   "metadata": {},
   "outputs": [
    {
     "data": {
      "text/plain": [
       "True"
      ]
     },
     "execution_count": 28,
     "metadata": {},
     "output_type": "execute_result"
    }
   ],
   "source": [
    "NodeType.has_value('source')"
   ]
  },
  {
   "cell_type": "code",
   "execution_count": 27,
   "id": "763114ba",
   "metadata": {},
   "outputs": [
    {
     "data": {
      "text/plain": [
       "{'source': <NodeType.source: 'source'>,\n",
       " 'target': <NodeType.target: 'target'>,\n",
       " 'reference': <NodeType.reference: 'reference'>,\n",
       " 'information': <NodeType.information: 'information'>,\n",
       " 'function': <NodeType.function: 'function'>,\n",
       " 'parent': <NodeType.parent: 'parent'>}"
      ]
     },
     "execution_count": 27,
     "metadata": {},
     "output_type": "execute_result"
    }
   ],
   "source": [
    "NodeType._value2member_map_"
   ]
  },
  {
   "cell_type": "code",
   "execution_count": null,
   "id": "0fbc652d",
   "metadata": {},
   "outputs": [],
   "source": []
  }
 ],
 "metadata": {
  "kernelspec": {
   "display_name": "Python 3",
   "language": "python",
   "name": "python3"
  },
  "language_info": {
   "codemirror_mode": {
    "name": "ipython",
    "version": 3
   },
   "file_extension": ".py",
   "mimetype": "text/x-python",
   "name": "python",
   "nbconvert_exporter": "python",
   "pygments_lexer": "ipython3",
   "version": "3.9.5"
  }
 },
 "nbformat": 4,
 "nbformat_minor": 5
}
