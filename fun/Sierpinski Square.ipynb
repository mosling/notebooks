{
 "cells": [
  {
   "cell_type": "code",
   "execution_count": 1,
   "id": "41e4a619",
   "metadata": {},
   "outputs": [],
   "source": [
    "import matplotlib.pyplot as plt\n",
    "import math"
   ]
  },
  {
   "cell_type": "code",
   "execution_count": 2,
   "id": "a656bf39",
   "metadata": {},
   "outputs": [],
   "source": [
    "def nextPoint (x, y, angle):\n",
    "    a = math.pi * angle / 180\n",
    "    x2 = (int) (round(x + (1 * math.cos(a))));\n",
    "    y2 = (int) (round(y + (1 * math.sin(a))));\n",
    "    return x2, y2"
   ]
  },
  {
   "cell_type": "code",
   "execution_count": 3,
   "id": "70a53bdc",
   "metadata": {},
   "outputs": [],
   "source": [
    "def expand(axiom, rule, level):\n",
    "    for l in range(0,level):\n",
    "        a2 = \"\"\n",
    "        for c in axiom:\n",
    "            if c in rules:\n",
    "                a2 += rules[c]\n",
    "            else:\n",
    "                a2 += c\n",
    "        print(f\"level {l} length {len(axiom)}\")\n",
    "        axiom = a2\n",
    "    return axiom"
   ]
  },
  {
   "cell_type": "code",
   "execution_count": 4,
   "id": "dfca288e",
   "metadata": {},
   "outputs": [],
   "source": [
    "axiom = \"F+XF+F+XF\"\n",
    "rules = { \"X\" : \"XF-F+F-XF+F+XF-F+F-X\"}\n",
    "angle = 90\n",
    "\n",
    "# dragon curve\n",
    "axiom = \"FX\"\n",
    "rules = {\n",
    "    \"X\" : \"X+YF+\",\n",
    "    \"Y\" : \"-FX-Y\"\n",
    "        }\n",
    "angle = 90\n",
    "\n",
    "axiom = \"MOSLING\"\n",
    "rules = {\n",
    "    \"M\" : \"SFF+\",\n",
    "    \"O\" : \"M-F-F\",\n",
    "    \"S\" : \"F-F+N\",\n",
    "    \"L\" : \"OFF-\",\n",
    "    \"I\" : \"F-F+-G\",\n",
    "    \"N\" : \"MOSLING\",\n",
    "    \"G\" : \"F-F+M\"\n",
    "}\n",
    "angle = 63"
   ]
  },
  {
   "cell_type": "code",
   "execution_count": 5,
   "id": "b4596285",
   "metadata": {},
   "outputs": [
    {
     "name": "stdout",
     "output_type": "stream",
     "text": [
      "level 0 length 7\n",
      "level 1 length 36\n",
      "level 2 length 89\n",
      "level 3 length 191\n",
      "level 4 length 395\n"
     ]
    },
    {
     "data": {
      "text/plain": [
       "[<matplotlib.lines.Line2D at 0x16ec4e36a90>]"
      ]
     },
     "execution_count": 5,
     "metadata": {},
     "output_type": "execute_result"
    },
    {
     "data": {
      "image/png": "[encoded data removed]",
      "text/plain": [
       "<Figure size 432x288 with 1 Axes>"
      ]
     },
     "metadata": {
      "needs_background": "light"
     },
     "output_type": "display_data"
    }
   ],
   "source": [
    "a = 0\n",
    "xp = [1]\n",
    "yp = [1]\n",
    "\n",
    "for c in expand(axiom, rules, 5):\n",
    "    if c == \"F\":\n",
    "        xn, yn = nextPoint(xp[-1], yp[-1], a)\n",
    "        xp.append(xn)\n",
    "        yp.append(yn)\n",
    "    elif c == \"-\":\n",
    "        a = a - angle\n",
    "        if a < 0:\n",
    "            a = 360 + a\n",
    "    elif c == \"+\":\n",
    "        a = (a + angle) % 360\n",
    "\n",
    "plt.plot(xp, yp)"
   ]
  },
  {
   "cell_type": "code",
   "execution_count": null,
   "id": "f2501ecf",
   "metadata": {},
   "outputs": [],
   "source": []
  }
 ],
 "metadata": {
  "kernelspec": {
   "display_name": "Python 3",
   "language": "python",
   "name": "python3"
  },
  "language_info": {
   "codemirror_mode": {
    "name": "ipython",
    "version": 3
   },
   "file_extension": ".py",
   "mimetype": "text/x-python",
   "name": "python",
   "nbconvert_exporter": "python",
   "pygments_lexer": "ipython3",
   "version": "3.9.5"
  }
 },
 "nbformat": 4,
 "nbformat_minor": 5
}
