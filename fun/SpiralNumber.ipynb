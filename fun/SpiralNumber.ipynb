{
 "cells": [
  {
   "cell_type": "code",
   "execution_count": 12,
   "metadata": {},
   "outputs": [],
   "source": [
    "import matplotlib.pyplot as plt\n",
    "import bintrees\n",
    "import sys\n",
    "import random"
   ]
  },
  {
   "cell_type": "markdown",
   "metadata": {},
   "source": [
    "We start on a 2d-field where alle cells numbered in spiral form startin at (0,0) with 0.\n",
    "\n",
    "<code>\n",
    "                 .. ..\n",
    " 14  13  12  11  10 26\n",
    " 15   3   2   1   9 25\n",
    " 16   4   0   8  24\n",
    " 17   5   6   7  23\n",
    " 18  19  20  21  22\n",
    "</code>\n"
   ]
  },
  {
   "cell_type": "code",
   "execution_count": 2,
   "metadata": {},
   "outputs": [],
   "source": [
    "def cycle_length(n):\n",
    "    \"\"\"\n",
    "    return the length of the square crossing the x-axis at position n\n",
    "    \"\"\"\n",
    "    return 8*n"
   ]
  },
  {
   "cell_type": "code",
   "execution_count": 3,
   "metadata": {},
   "outputs": [],
   "source": [
    "def cycle_start(n):\n",
    "    \"\"\"\n",
    "    return the first index for the square crossing the x-axis at position n, this is the partial sum \n",
    "    of all squares less than n\n",
    "    \"\"\"\n",
    "    s = 0;\n",
    "    for i in range (0,n+1):\n",
    "        s += cycle_length(i)\n",
    "        \n",
    "    return s"
   ]
  },
  {
   "cell_type": "code",
   "execution_count": 4,
   "metadata": {},
   "outputs": [],
   "source": [
    "def loop_position(x,y) -> (int,int):\n",
    "    \"\"\"\n",
    "    computes the number in c-th loop starting with (0,1,2,...)\n",
    "    a loop starts always at the positon (l,0) and turns counter clockwise\n",
    "\n",
    "    \"\"\"\n",
    "    l = max(abs(x), abs(y))\n",
    "    p = 0\n",
    "    \n",
    "    if l == x:\n",
    "        if y >= 0:\n",
    "            p = y\n",
    "        else:\n",
    "            p = 8*l + y\n",
    "            \n",
    "    elif l == -x:\n",
    "        p = 4*l - y\n",
    "           \n",
    "    elif l == y:\n",
    "        p = 2*l - x\n",
    "\n",
    "    elif l == -y:\n",
    "        p = 6*l + x\n",
    "        \n",
    "    return (l,p);\n",
    "        "
   ]
  },
  {
   "cell_type": "code",
   "execution_count": 5,
   "metadata": {},
   "outputs": [],
   "source": [
    "def spiral_number(x,y,start_dict):\n",
    "    \"\"\"\n",
    "    this returns the spiral index number for the postion x,y\n",
    "    the start_dict is a dictionary to supress the continuously computation of the cycle_start\n",
    "    \"\"\"\n",
    "    (loop, position) = loop_position(x,y)\n",
    "    if loop not in start_dict:\n",
    "        start_dict[loop] = cycle_start(loop)\n",
    "        \n",
    "    return start_dict[loop] - position"
   ]
  },
  {
   "cell_type": "code",
   "execution_count": 6,
   "metadata": {},
   "outputs": [
    {
     "name": "stdout",
     "output_type": "stream",
     "text": [
      " 33  32  31  30  29  28  27 \n",
      " 34  14  13  12  11  10  26 \n",
      " 35  15   3   2   1   9  25 \n",
      " 36  16   4   0   8  24  48 \n",
      " 37  17   5   6   7  23  47 \n",
      " 38  18  19  20  21  22  46 \n",
      " 39  40  41  42  43  44  45 \n"
     ]
    }
   ],
   "source": [
    "# cell to show the created spiral index for a 7x7 field \n",
    "w = 3\n",
    "d = {}\n",
    "f = [[spiral_number(i,j,d) for i in range(-w,w+1) ] for j in range(-w,w+1)]\n",
    "\n",
    "for i in range(0,len(f)):\n",
    "    line = \"\"\n",
    "    for j in range(0,len(f[i])):\n",
    "        line = line + \"{:3d} \".format(f[i][j])\n",
    "    print (line)"
   ]
  },
  {
   "cell_type": "code",
   "execution_count": 7,
   "metadata": {},
   "outputs": [],
   "source": [
    "def find_next_position(x, y, possible_moves, path, cycle_starts) -> (int, int):\n",
    "    \"\"\"\n",
    "    we start a postion (x,y) and check all possibles move (a list of tupels (x,y) containing incremental changes) \n",
    "    if we found a new position which wasn't occupied before, if we found mor than one position select the\n",
    "    postion with the smallest index\n",
    "    \"\"\"\n",
    "    next_move = (0,0)\n",
    "    next_index = sys.maxsize\n",
    "    for nm in possible_moves:\n",
    "        nx = x + nm[0]\n",
    "        ny = y + nm[1]\n",
    "        nn = spiral_number(nx, ny, cycle_starts)\n",
    "        if (nx,ny) not in path and next_index > nn:\n",
    "            next_index = nn\n",
    "            next_move= (nx, ny)\n",
    "            \n",
    "    return next_move"
   ]
  },
  {
   "cell_type": "code",
   "execution_count": 29,
   "metadata": {},
   "outputs": [
    {
     "name": "stdout",
     "output_type": "stream",
     "text": [
      "[(2, -7), (-4, -7), (2, 8), (-8, 5), (-4, -10), (-4, 5), (-6, -1), (0, -1), (2, -10), (4, -10), (-4, -4), (-10, 5), (-10, 2), (-10, -7), (-10, -10), (-6, 8), (0, -4), (-10, -1), (-4, 8), (-2, -1)]\n"
     ]
    }
   ],
   "source": [
    "random_moves = [(random.randrange(-10,10,2), random.randrange(-10,10,3)) for _ in range(20)]\n",
    "print(random_moves)"
   ]
  },
  {
   "cell_type": "code",
   "execution_count": 38,
   "metadata": {},
   "outputs": [
    {
     "name": "stdout",
     "output_type": "stream",
     "text": [
      "impossible to move at step 639\n",
      "last index is 435\n",
      "Wall time: 51 ms\n"
     ]
    }
   ],
   "source": [
    "%%time\n",
    "knight_moves = [(1,2), (2,1), (2,-1), (1,-2), (-1,-2), (-2,-1), (-2,1), (-1,2)]\n",
    "neumann = [(1,0), (1,1), (0,1), (-1,1), (-1,0), (0,-1), (1,-1), (1,-1)]\n",
    "triangle = [(1,0), (-1,0), (0,1), (-20,-30)]\n",
    "\n",
    "path = [(0,0)]\n",
    "current_position = (0,0)\n",
    "last_position = (0,0)\n",
    "cycle_start_dict = {}\n",
    "possible_moves = knight_moves\n",
    "\n",
    "for i in range(0,1000):\n",
    "    last_position = current_position\n",
    "    current_position = find_next_position(current_position[0], current_position[1], possible_moves, path, cycle_start_dict)\n",
    "    if (0,0) != current_position:\n",
    "        path.append(current_position)\n",
    "    else:\n",
    "        print (\"impossible to move at step {}\".format(i))\n",
    "        print (\"last index is {}\".format(spiral_number(last_position[0], last_position[1], cycle_start_dict)))\n",
    "        break"
   ]
  },
  {
   "cell_type": "code",
   "execution_count": 45,
   "metadata": {},
   "outputs": [
    {
     "data": {
      "application/vnd.plotly.v1+json": {
       "config": {
        "plotlyServerURL": "https://plot.ly"
       },
       "data": [
        {
         "hovertemplate": "x=%{x}<br>y=%{y}<extra></extra>",
         "legendgroup": "",
         "line": {
          "color": "#636efa",
          "dash": "solid"
         },
         "marker": {
          "symbol": "circle"
         },
         "mode": "lines",
         "name": "",
         "orientation": "v",
         "showlegend": false,
         "type": "scatter",
         "x": [
          0,
          2,
          1,
          0,
          -1,
          1,
          -1,
          0,
          1,
          -1,
          0,
          -2,
          -1,
          1,
          2,
          1,
          -1,
          -2,
          0,
          2,
          3,
          2,
          4,
          3,
          2,
          0,
          -2,
          -3,
          -2,
          0,
          2,
          1,
          3,
          4,
          5,
          3,
          1,
          -1,
          -2,
          -1,
          -3,
          -2,
          -4,
          -3,
          -5,
          -3,
          -4,
          -3,
          -2,
          -4,
          -3,
          -2,
          0,
          2,
          3,
          4,
          3,
          2,
          0,
          -2,
          -3,
          -4,
          -5,
          -6,
          -4,
          -2,
          -3,
          -1,
          1,
          3,
          5,
          4,
          2,
          4,
          5,
          6,
          4,
          5,
          4,
          3,
          1,
          -1,
          -3,
          -4,
          -2,
          -4,
          -6,
          -5,
          -4,
          -6,
          -5,
          -4,
          -5,
          -3,
          -4,
          -5,
          -3,
          -1,
          1,
          0,
          2,
          1,
          3,
          5,
          6,
          5,
          4,
          3,
          1,
          -1,
          -3,
          -5,
          -7,
          -5,
          -6,
          -5,
          -6,
          -7,
          -5,
          -3,
          -1,
          1,
          3,
          5,
          6,
          7,
          6,
          5,
          4,
          2,
          0,
          -2,
          -1,
          -3,
          -5,
          -7,
          -6,
          -4,
          -2,
          0,
          2,
          4,
          3,
          5,
          4,
          6,
          5,
          4,
          2,
          0,
          -2,
          -4,
          -5,
          -6,
          -4,
          -6,
          -8,
          -7,
          -9,
          -7,
          -8,
          -7,
          -6,
          -5,
          -6,
          -4,
          -2,
          0,
          2,
          3,
          5,
          6,
          4,
          6,
          7,
          8,
          7,
          6,
          7,
          8,
          6,
          4,
          5,
          3,
          1,
          -1,
          -3,
          -5,
          -7,
          -8,
          -7,
          -6,
          -7,
          -8,
          -7,
          -5,
          -3,
          -1,
          0,
          2,
          4,
          6,
          7,
          8,
          6,
          7,
          8,
          6,
          5,
          6,
          7,
          5,
          6,
          7,
          5,
          3,
          1,
          2,
          0,
          1,
          -1,
          -3,
          -5,
          -7,
          -8,
          -9,
          -10,
          -8,
          -7,
          -6,
          -7,
          -6,
          -4,
          -2,
          0,
          2,
          4,
          5,
          7,
          8,
          6,
          7,
          8,
          9,
          7,
          8,
          7,
          8,
          6,
          7,
          8,
          6,
          4,
          2,
          3,
          1,
          -1,
          -3,
          -4,
          -6,
          -8,
          -9,
          -7,
          -8,
          -6,
          -8,
          -10,
          -9,
          -11,
          -10,
          -9,
          -10,
          -8,
          -7,
          -8,
          -9,
          -8,
          -6,
          -4,
          -2,
          -1,
          1,
          3,
          4,
          5,
          7,
          8,
          9,
          10,
          9,
          8,
          7,
          9,
          8,
          9,
          7,
          8,
          9,
          7,
          5,
          3,
          1,
          2,
          0,
          -2,
          -4,
          -6,
          -8,
          -9,
          -11,
          -10,
          -9,
          -10,
          -8,
          -9,
          -7,
          -8,
          -7,
          -5,
          -3,
          -1,
          1,
          3,
          4,
          6,
          8,
          9,
          10,
          9,
          10,
          8,
          9,
          10,
          11,
          9,
          7,
          5,
          3,
          1,
          -1,
          -3,
          -2,
          -4,
          -6,
          -8,
          -10,
          -12,
          -10,
          -11,
          -10,
          -9,
          -10,
          -8,
          -9,
          -10,
          -8,
          -6,
          -4,
          -2,
          0,
          2,
          3,
          1,
          3,
          5,
          7,
          8,
          9,
          10,
          11,
          10,
          11,
          9,
          10,
          9,
          8,
          6,
          4,
          2,
          0,
          -2,
          -4,
          -5,
          -7,
          -9,
          -11,
          -12,
          -11,
          -12,
          -11,
          -9,
          -8,
          -9,
          -10,
          -9,
          -7,
          -5,
          -3,
          -1,
          1,
          0,
          2,
          4,
          5,
          7,
          9,
          10,
          11,
          9,
          10,
          11,
          10,
          11,
          9,
          10,
          9,
          7,
          5,
          3,
          1,
          0,
          -2,
          -4,
          -5,
          -7,
          -9,
          -10,
          -12,
          -11,
          -13,
          -12,
          -10,
          -12,
          -11,
          -13,
          -12,
          -10,
          -12,
          -13,
          -12,
          -11,
          -12,
          -11,
          -9,
          -10,
          -11,
          -9,
          -8,
          -6,
          -4,
          -2,
          0,
          2,
          4,
          6,
          8,
          9,
          10,
          11,
          12,
          13,
          11,
          10,
          11,
          12,
          10,
          8,
          6,
          4,
          2,
          0,
          -2,
          -1,
          -3,
          -5,
          -7,
          -6,
          -8,
          -10,
          -12,
          -13,
          -14,
          -15,
          -13,
          -12,
          -11,
          -12,
          -11,
          -12,
          -10,
          -11,
          -9,
          -7,
          -5,
          -3,
          -1,
          1,
          3,
          5,
          6,
          8,
          9,
          10,
          11,
          12,
          13,
          11,
          12,
          11,
          12,
          11,
          12,
          10,
          8,
          6,
          4,
          2,
          0,
          -2,
          -1,
          -3,
          -5,
          -7,
          -9,
          -11,
          -13,
          -14,
          -15,
          -13,
          -12,
          -11,
          -9,
          -10,
          -11,
          -12,
          -11,
          -10,
          -8,
          -6,
          -4,
          -2,
          0,
          2,
          4,
          6,
          7,
          9,
          10,
          11,
          12,
          13,
          14,
          12,
          13,
          12,
          13,
          12,
          11,
          12,
          10,
          11,
          12,
          13,
          14,
          15,
          13,
          12,
          13,
          14,
          12,
          11,
          10,
          8,
          6,
          4,
          2,
          0,
          -2,
          -1,
          -3,
          -5,
          -6,
          -8,
          -10,
          -9,
          -11,
          -13,
          -14,
          -15,
          -14,
          -15,
          -13,
          -14,
          -13,
          -12,
          -10,
          -11,
          -12,
          -10,
          -9,
          -7,
          -5,
          -3,
          -1,
          1,
          3,
          5,
          6,
          8,
          10,
          11,
          12,
          10,
          11,
          12,
          13,
          12,
          11,
          13,
          12,
          10,
          12,
          13,
          14,
          15,
          16,
          14,
          15,
          14,
          15,
          13,
          14,
          15,
          16,
          14,
          12,
          13,
          14,
          12,
          10
         ],
         "xaxis": "x",
         "y": [
          0,
          -1,
          1,
          -1,
          1,
          0,
          -1,
          1,
          -1,
          0,
          -2,
          -1,
          -3,
          -2,
          0,
          2,
          3,
          1,
          2,
          1,
          -1,
          -3,
          -2,
          0,
          -2,
          -3,
          -2,
          0,
          2,
          3,
          2,
          4,
          3,
          1,
          -1,
          -2,
          -3,
          -2,
          0,
          2,
          1,
          3,
          2,
          4,
          3,
          2,
          0,
          -2,
          -4,
          -3,
          -1,
          -3,
          -4,
          -5,
          -3,
          -1,
          1,
          3,
          4,
          5,
          3,
          1,
          -1,
          -3,
          -4,
          -5,
          -3,
          -4,
          -5,
          -4,
          -3,
          -5,
          -4,
          -3,
          -5,
          -3,
          -4,
          -2,
          0,
          2,
          3,
          4,
          5,
          3,
          4,
          5,
          4,
          2,
          4,
          3,
          1,
          -1,
          -3,
          -4,
          -2,
          -4,
          -5,
          -6,
          -7,
          -5,
          -6,
          -4,
          -5,
          -4,
          -2,
          0,
          2,
          4,
          5,
          6,
          7,
          6,
          5,
          4,
          2,
          0,
          -2,
          -4,
          -5,
          -6,
          -5,
          -6,
          -7,
          -6,
          -4,
          -2,
          0,
          2,
          4,
          5,
          6,
          7,
          5,
          6,
          5,
          4,
          6,
          7,
          6,
          5,
          4,
          3,
          5,
          4,
          6,
          5,
          3,
          5,
          6,
          7,
          8,
          9,
          7,
          5,
          6,
          7,
          6,
          8,
          7,
          6,
          4,
          2,
          0,
          -2,
          -4,
          -5,
          -6,
          -7,
          -8,
          -6,
          -7,
          -5,
          -6,
          -7,
          -5,
          -3,
          -1,
          1,
          3,
          5,
          6,
          7,
          5,
          6,
          7,
          8,
          9,
          8,
          7,
          5,
          3,
          1,
          -1,
          -3,
          -5,
          -6,
          -7,
          -8,
          -6,
          -7,
          -8,
          -9,
          -7,
          -5,
          -6,
          -4,
          -2,
          -1,
          1,
          3,
          5,
          6,
          4,
          6,
          7,
          8,
          9,
          7,
          8,
          6,
          7,
          8,
          9,
          10,
          8,
          6,
          4,
          3,
          1,
          -1,
          -3,
          -5,
          -6,
          -7,
          -8,
          -9,
          -10,
          -8,
          -9,
          -7,
          -8,
          -6,
          -4,
          -2,
          -3,
          -1,
          1,
          3,
          2,
          4,
          6,
          7,
          8,
          9,
          7,
          8,
          9,
          10,
          8,
          9,
          10,
          8,
          9,
          7,
          8,
          9,
          8,
          10,
          9,
          7,
          5,
          3,
          2,
          0,
          -2,
          -4,
          -6,
          -7,
          -8,
          -9,
          -7,
          -8,
          -9,
          -7,
          -9,
          -8,
          -6,
          -4,
          -2,
          0,
          2,
          0,
          -1,
          1,
          3,
          2,
          4,
          6,
          7,
          8,
          9,
          10,
          8,
          9,
          10,
          11,
          10,
          11,
          9,
          8,
          6,
          4,
          2,
          1,
          -1,
          -2,
          -4,
          -6,
          -7,
          -8,
          -9,
          -10,
          -11,
          -9,
          -10,
          -9,
          -7,
          -5,
          -3,
          -1,
          0,
          2,
          4,
          6,
          7,
          8,
          9,
          10,
          11,
          10,
          11,
          9,
          10,
          11,
          12,
          11,
          10,
          9,
          7,
          5,
          3,
          1,
          0,
          -2,
          -4,
          -5,
          -6,
          -7,
          -8,
          -9,
          -10,
          -8,
          -9,
          -10,
          -11,
          -10,
          -8,
          -6,
          -4,
          -2,
          0,
          2,
          1,
          3,
          5,
          7,
          8,
          9,
          10,
          11,
          12,
          13,
          11,
          12,
          11,
          10,
          8,
          6,
          4,
          2,
          1,
          -1,
          -3,
          -5,
          -7,
          -8,
          -9,
          -10,
          -11,
          -12,
          -10,
          -11,
          -12,
          -10,
          -11,
          -10,
          -8,
          -6,
          -5,
          -3,
          -1,
          1,
          3,
          4,
          6,
          8,
          9,
          10,
          11,
          12,
          10,
          11,
          12,
          10,
          11,
          12,
          10,
          9,
          11,
          10,
          12,
          13,
          14,
          12,
          11,
          13,
          12,
          11,
          9,
          7,
          5,
          3,
          1,
          0,
          -2,
          -4,
          -5,
          -7,
          -8,
          -9,
          -10,
          -11,
          -12,
          -11,
          -12,
          -11,
          -9,
          -7,
          -5,
          -3,
          -1,
          0,
          2,
          4,
          6,
          7,
          8,
          9,
          10,
          11,
          12,
          13,
          11,
          12,
          13,
          14,
          12,
          13,
          14,
          15,
          13,
          11,
          9,
          8,
          6,
          4,
          2,
          0,
          -2,
          -3,
          -5,
          -6,
          -7,
          -8,
          -9,
          -10,
          -11,
          -12,
          -13,
          -11,
          -10,
          -8,
          -6,
          -4,
          -2,
          -4,
          -3,
          -1,
          1,
          3,
          5,
          7,
          8,
          9,
          10,
          11,
          12,
          13,
          14,
          12,
          13,
          12,
          13,
          14,
          13,
          12,
          10,
          8,
          7,
          5,
          3,
          2,
          0,
          -2,
          -4,
          -6,
          -8,
          -9,
          -10,
          -11,
          -12,
          -13,
          -14,
          -13,
          -14,
          -12,
          -11,
          -9,
          -7,
          -5,
          -3,
          -1,
          0,
          -2,
          -4,
          -6,
          -8,
          -10,
          -12,
          -11,
          -9,
          -7,
          -5,
          -3,
          -1,
          0,
          2,
          4,
          6,
          5,
          7,
          9,
          10,
          11,
          12,
          13,
          14,
          15,
          13,
          14,
          15,
          13,
          14,
          15,
          13,
          14,
          15,
          13,
          11,
          9,
          7,
          6,
          4,
          2,
          0,
          -1,
          -3,
          -5,
          -6,
          -8,
          -9,
          -10,
          -11,
          -12,
          -13,
          -14,
          -15,
          -13,
          -12,
          -13,
          -11,
          -9,
          -10,
          -8,
          -6,
          -8,
          -10,
          -12,
          -11,
          -13,
          -12,
          -11,
          -9,
          -7,
          -5,
          -3,
          -2,
          -4,
          -6,
          -8,
          -7,
          -5,
          -3,
          -1,
          0,
          1,
          3,
          5,
          4,
          5
         ],
         "yaxis": "y"
        }
       ],
       "layout": {
        "legend": {
         "tracegroupgap": 0
        },
        "margin": {
         "t": 60
        },
        "template": {
         "data": {
          "bar": [
           {
            "error_x": {
             "color": "#2a3f5f"
            },
            "error_y": {
             "color": "#2a3f5f"
            },
            "marker": {
             "line": {
              "color": "#E5ECF6",
              "width": 0.5
             },
             "pattern": {
              "fillmode": "overlay",
              "size": 10,
              "solidity": 0.2
             }
            },
            "type": "bar"
           }
          ],
          "barpolar": [
           {
            "marker": {
             "line": {
              "color": "#E5ECF6",
              "width": 0.5
             },
             "pattern": {
              "fillmode": "overlay",
              "size": 10,
              "solidity": 0.2
             }
            },
            "type": "barpolar"
           }
          ],
          "carpet": [
           {
            "aaxis": {
             "endlinecolor": "#2a3f5f",
             "gridcolor": "white",
             "linecolor": "white",
             "minorgridcolor": "white",
             "startlinecolor": "#2a3f5f"
            },
            "baxis": {
             "endlinecolor": "#2a3f5f",
             "gridcolor": "white",
             "linecolor": "white",
             "minorgridcolor": "white",
             "startlinecolor": "#2a3f5f"
            },
            "type": "carpet"
           }
          ],
          "choropleth": [
           {
            "colorbar": {
             "outlinewidth": 0,
             "ticks": ""
            },
            "type": "choropleth"
           }
          ],
          "contour": [
           {
            "colorbar": {
             "outlinewidth": 0,
             "ticks": ""
            },
            "colorscale": [
             [
              0,
              "#0d0887"
             ],
             [
              0.1111111111111111,
              "#46039f"
             ],
             [
              0.2222222222222222,
              "#7201a8"
             ],
             [
              0.3333333333333333,
              "#9c179e"
             ],
             [
              0.4444444444444444,
              "#bd3786"
             ],
             [
              0.5555555555555556,
              "#d8576b"
             ],
             [
              0.6666666666666666,
              "#ed7953"
             ],
             [
              0.7777777777777778,
              "#fb9f3a"
             ],
             [
              0.8888888888888888,
              "#fdca26"
             ],
             [
              1,
              "#f0f921"
             ]
            ],
            "type": "contour"
           }
          ],
          "contourcarpet": [
           {
            "colorbar": {
             "outlinewidth": 0,
             "ticks": ""
            },
            "type": "contourcarpet"
           }
          ],
          "heatmap": [
           {
            "colorbar": {
             "outlinewidth": 0,
             "ticks": ""
            },
            "colorscale": [
             [
              0,
              "#0d0887"
             ],
             [
              0.1111111111111111,
              "#46039f"
             ],
             [
              0.2222222222222222,
              "#7201a8"
             ],
             [
              0.3333333333333333,
              "#9c179e"
             ],
             [
              0.4444444444444444,
              "#bd3786"
             ],
             [
              0.5555555555555556,
              "#d8576b"
             ],
             [
              0.6666666666666666,
              "#ed7953"
             ],
             [
              0.7777777777777778,
              "#fb9f3a"
             ],
             [
              0.8888888888888888,
              "#fdca26"
             ],
             [
              1,
              "#f0f921"
             ]
            ],
            "type": "heatmap"
           }
          ],
          "heatmapgl": [
           {
            "colorbar": {
             "outlinewidth": 0,
             "ticks": ""
            },
            "colorscale": [
             [
              0,
              "#0d0887"
             ],
             [
              0.1111111111111111,
              "#46039f"
             ],
             [
              0.2222222222222222,
              "#7201a8"
             ],
             [
              0.3333333333333333,
              "#9c179e"
             ],
             [
              0.4444444444444444,
              "#bd3786"
             ],
             [
              0.5555555555555556,
              "#d8576b"
             ],
             [
              0.6666666666666666,
              "#ed7953"
             ],
             [
              0.7777777777777778,
              "#fb9f3a"
             ],
             [
              0.8888888888888888,
              "#fdca26"
             ],
             [
              1,
              "#f0f921"
             ]
            ],
            "type": "heatmapgl"
           }
          ],
          "histogram": [
           {
            "marker": {
             "pattern": {
              "fillmode": "overlay",
              "size": 10,
              "solidity": 0.2
             }
            },
            "type": "histogram"
           }
          ],
          "histogram2d": [
           {
            "colorbar": {
             "outlinewidth": 0,
             "ticks": ""
            },
            "colorscale": [
             [
              0,
              "#0d0887"
             ],
             [
              0.1111111111111111,
              "#46039f"
             ],
             [
              0.2222222222222222,
              "#7201a8"
             ],
             [
              0.3333333333333333,
              "#9c179e"
             ],
             [
              0.4444444444444444,
              "#bd3786"
             ],
             [
              0.5555555555555556,
              "#d8576b"
             ],
             [
              0.6666666666666666,
              "#ed7953"
             ],
             [
              0.7777777777777778,
              "#fb9f3a"
             ],
             [
              0.8888888888888888,
              "#fdca26"
             ],
             [
              1,
              "#f0f921"
             ]
            ],
            "type": "histogram2d"
           }
          ],
          "histogram2dcontour": [
           {
            "colorbar": {
             "outlinewidth": 0,
             "ticks": ""
            },
            "colorscale": [
             [
              0,
              "#0d0887"
             ],
             [
              0.1111111111111111,
              "#46039f"
             ],
             [
              0.2222222222222222,
              "#7201a8"
             ],
             [
              0.3333333333333333,
              "#9c179e"
             ],
             [
              0.4444444444444444,
              "#bd3786"
             ],
             [
              0.5555555555555556,
              "#d8576b"
             ],
             [
              0.6666666666666666,
              "#ed7953"
             ],
             [
              0.7777777777777778,
              "#fb9f3a"
             ],
             [
              0.8888888888888888,
              "#fdca26"
             ],
             [
              1,
              "#f0f921"
             ]
            ],
            "type": "histogram2dcontour"
           }
          ],
          "mesh3d": [
           {
            "colorbar": {
             "outlinewidth": 0,
             "ticks": ""
            },
            "type": "mesh3d"
           }
          ],
          "parcoords": [
           {
            "line": {
             "colorbar": {
              "outlinewidth": 0,
              "ticks": ""
             }
            },
            "type": "parcoords"
           }
          ],
          "pie": [
           {
            "automargin": true,
            "type": "pie"
           }
          ],
          "scatter": [
           {
            "marker": {
             "colorbar": {
              "outlinewidth": 0,
              "ticks": ""
             }
            },
            "type": "scatter"
           }
          ],
          "scatter3d": [
           {
            "line": {
             "colorbar": {
              "outlinewidth": 0,
              "ticks": ""
             }
            },
            "marker": {
             "colorbar": {
              "outlinewidth": 0,
              "ticks": ""
             }
            },
            "type": "scatter3d"
           }
          ],
          "scattercarpet": [
           {
            "marker": {
             "colorbar": {
              "outlinewidth": 0,
              "ticks": ""
             }
            },
            "type": "scattercarpet"
           }
          ],
          "scattergeo": [
           {
            "marker": {
             "colorbar": {
              "outlinewidth": 0,
              "ticks": ""
             }
            },
            "type": "scattergeo"
           }
          ],
          "scattergl": [
           {
            "marker": {
             "colorbar": {
              "outlinewidth": 0,
              "ticks": ""
             }
            },
            "type": "scattergl"
           }
          ],
          "scattermapbox": [
           {
            "marker": {
             "colorbar": {
              "outlinewidth": 0,
              "ticks": ""
             }
            },
            "type": "scattermapbox"
           }
          ],
          "scatterpolar": [
           {
            "marker": {
             "colorbar": {
              "outlinewidth": 0,
              "ticks": ""
             }
            },
            "type": "scatterpolar"
           }
          ],
          "scatterpolargl": [
           {
            "marker": {
             "colorbar": {
              "outlinewidth": 0,
              "ticks": ""
             }
            },
            "type": "scatterpolargl"
           }
          ],
          "scatterternary": [
           {
            "marker": {
             "colorbar": {
              "outlinewidth": 0,
              "ticks": ""
             }
            },
            "type": "scatterternary"
           }
          ],
          "surface": [
           {
            "colorbar": {
             "outlinewidth": 0,
             "ticks": ""
            },
            "colorscale": [
             [
              0,
              "#0d0887"
             ],
             [
              0.1111111111111111,
              "#46039f"
             ],
             [
              0.2222222222222222,
              "#7201a8"
             ],
             [
              0.3333333333333333,
              "#9c179e"
             ],
             [
              0.4444444444444444,
              "#bd3786"
             ],
             [
              0.5555555555555556,
              "#d8576b"
             ],
             [
              0.6666666666666666,
              "#ed7953"
             ],
             [
              0.7777777777777778,
              "#fb9f3a"
             ],
             [
              0.8888888888888888,
              "#fdca26"
             ],
             [
              1,
              "#f0f921"
             ]
            ],
            "type": "surface"
           }
          ],
          "table": [
           {
            "cells": {
             "fill": {
              "color": "#EBF0F8"
             },
             "line": {
              "color": "white"
             }
            },
            "header": {
             "fill": {
              "color": "#C8D4E3"
             },
             "line": {
              "color": "white"
             }
            },
            "type": "table"
           }
          ]
         },
         "layout": {
          "annotationdefaults": {
           "arrowcolor": "#2a3f5f",
           "arrowhead": 0,
           "arrowwidth": 1
          },
          "autotypenumbers": "strict",
          "coloraxis": {
           "colorbar": {
            "outlinewidth": 0,
            "ticks": ""
           }
          },
          "colorscale": {
           "diverging": [
            [
             0,
             "#8e0152"
            ],
            [
             0.1,
             "#c51b7d"
            ],
            [
             0.2,
             "#de77ae"
            ],
            [
             0.3,
             "#f1b6da"
            ],
            [
             0.4,
             "#fde0ef"
            ],
            [
             0.5,
             "#f7f7f7"
            ],
            [
             0.6,
             "#e6f5d0"
            ],
            [
             0.7,
             "#b8e186"
            ],
            [
             0.8,
             "#7fbc41"
            ],
            [
             0.9,
             "#4d9221"
            ],
            [
             1,
             "#276419"
            ]
           ],
           "sequential": [
            [
             0,
             "#0d0887"
            ],
            [
             0.1111111111111111,
             "#46039f"
            ],
            [
             0.2222222222222222,
             "#7201a8"
            ],
            [
             0.3333333333333333,
             "#9c179e"
            ],
            [
             0.4444444444444444,
             "#bd3786"
            ],
            [
             0.5555555555555556,
             "#d8576b"
            ],
            [
             0.6666666666666666,
             "#ed7953"
            ],
            [
             0.7777777777777778,
             "#fb9f3a"
            ],
            [
             0.8888888888888888,
             "#fdca26"
            ],
            [
             1,
             "#f0f921"
            ]
           ],
           "sequentialminus": [
            [
             0,
             "#0d0887"
            ],
            [
             0.1111111111111111,
             "#46039f"
            ],
            [
             0.2222222222222222,
             "#7201a8"
            ],
            [
             0.3333333333333333,
             "#9c179e"
            ],
            [
             0.4444444444444444,
             "#bd3786"
            ],
            [
             0.5555555555555556,
             "#d8576b"
            ],
            [
             0.6666666666666666,
             "#ed7953"
            ],
            [
             0.7777777777777778,
             "#fb9f3a"
            ],
            [
             0.8888888888888888,
             "#fdca26"
            ],
            [
             1,
             "#f0f921"
            ]
           ]
          },
          "colorway": [
           "#636efa",
           "#EF553B",
           "#00cc96",
           "#ab63fa",
           "#FFA15A",
           "#19d3f3",
           "#FF6692",
           "#B6E880",
           "#FF97FF",
           "#FECB52"
          ],
          "font": {
           "color": "#2a3f5f"
          },
          "geo": {
           "bgcolor": "white",
           "lakecolor": "white",
           "landcolor": "#E5ECF6",
           "showlakes": true,
           "showland": true,
           "subunitcolor": "white"
          },
          "hoverlabel": {
           "align": "left"
          },
          "hovermode": "closest",
          "mapbox": {
           "style": "light"
          },
          "paper_bgcolor": "white",
          "plot_bgcolor": "#E5ECF6",
          "polar": {
           "angularaxis": {
            "gridcolor": "white",
            "linecolor": "white",
            "ticks": ""
           },
           "bgcolor": "#E5ECF6",
           "radialaxis": {
            "gridcolor": "white",
            "linecolor": "white",
            "ticks": ""
           }
          },
          "scene": {
           "xaxis": {
            "backgroundcolor": "#E5ECF6",
            "gridcolor": "white",
            "gridwidth": 2,
            "linecolor": "white",
            "showbackground": true,
            "ticks": "",
            "zerolinecolor": "white"
           },
           "yaxis": {
            "backgroundcolor": "#E5ECF6",
            "gridcolor": "white",
            "gridwidth": 2,
            "linecolor": "white",
            "showbackground": true,
            "ticks": "",
            "zerolinecolor": "white"
           },
           "zaxis": {
            "backgroundcolor": "#E5ECF6",
            "gridcolor": "white",
            "gridwidth": 2,
            "linecolor": "white",
            "showbackground": true,
            "ticks": "",
            "zerolinecolor": "white"
           }
          },
          "shapedefaults": {
           "line": {
            "color": "#2a3f5f"
           }
          },
          "ternary": {
           "aaxis": {
            "gridcolor": "white",
            "linecolor": "white",
            "ticks": ""
           },
           "baxis": {
            "gridcolor": "white",
            "linecolor": "white",
            "ticks": ""
           },
           "bgcolor": "#E5ECF6",
           "caxis": {
            "gridcolor": "white",
            "linecolor": "white",
            "ticks": ""
           }
          },
          "title": {
           "x": 0.05
          },
          "xaxis": {
           "automargin": true,
           "gridcolor": "white",
           "linecolor": "white",
           "ticks": "",
           "title": {
            "standoff": 15
           },
           "zerolinecolor": "white",
           "zerolinewidth": 2
          },
          "yaxis": {
           "automargin": true,
           "gridcolor": "white",
           "linecolor": "white",
           "ticks": "",
           "title": {
            "standoff": 15
           },
           "zerolinecolor": "white",
           "zerolinewidth": 2
          }
         }
        },
        "xaxis": {
         "anchor": "y",
         "domain": [
          0,
          1
         ],
         "title": {
          "text": "x"
         }
        },
        "yaxis": {
         "anchor": "x",
         "domain": [
          0,
          1
         ],
         "title": {
          "text": "y"
         }
        }
       }
      },
      "text/html": [
       "<div>                            <div id=\"e82f2ee5-ea69-498a-9eed-9e6a3c7ef22a\" class=\"plotly-graph-div\" style=\"height:525px; width:100%;\"></div>            <script type=\"text/javascript\">                require([\"plotly\"], function(Plotly) {                    window.PLOTLYENV=window.PLOTLYENV || {};                                    if (document.getElementById(\"e82f2ee5-ea69-498a-9eed-9e6a3c7ef22a\")) {                    Plotly.newPlot(                        \"e82f2ee5-ea69-498a-9eed-9e6a3c7ef22a\",                        [{\"hovertemplate\":\"x=%{x}<br>y=%{y}<extra></extra>\",\"legendgroup\":\"\",\"line\":{\"color\":\"#636efa\",\"dash\":\"solid\"},\"marker\":{\"symbol\":\"circle\"},\"mode\":\"lines\",\"name\":\"\",\"orientation\":\"v\",\"showlegend\":false,\"x\":[0,2,1,0,-1,1,-1,0,1,-1,0,-2,-1,1,2,1,-1,-2,0,2,3,2,4,3,2,0,-2,-3,-2,0,2,1,3,4,5,3,1,-1,-2,-1,-3,-2,-4,-3,-5,-3,-4,-3,-2,-4,-3,-2,0,2,3,4,3,2,0,-2,-3,-4,-5,-6,-4,-2,-3,-1,1,3,5,4,2,4,5,6,4,5,4,3,1,-1,-3,-4,-2,-4,-6,-5,-4,-6,-5,-4,-5,-3,-4,-5,-3,-1,1,0,2,1,3,5,6,5,4,3,1,-1,-3,-5,-7,-5,-6,-5,-6,-7,-5,-3,-1,1,3,5,6,7,6,5,4,2,0,-2,-1,-3,-5,-7,-6,-4,-2,0,2,4,3,5,4,6,5,4,2,0,-2,-4,-5,-6,-4,-6,-8,-7,-9,-7,-8,-7,-6,-5,-6,-4,-2,0,2,3,5,6,4,6,7,8,7,6,7,8,6,4,5,3,1,-1,-3,-5,-7,-8,-7,-6,-7,-8,-7,-5,-3,-1,0,2,4,6,7,8,6,7,8,6,5,6,7,5,6,7,5,3,1,2,0,1,-1,-3,-5,-7,-8,-9,-10,-8,-7,-6,-7,-6,-4,-2,0,2,4,5,7,8,6,7,8,9,7,8,7,8,6,7,8,6,4,2,3,1,-1,-3,-4,-6,-8,-9,-7,-8,-6,-8,-10,-9,-11,-10,-9,-10,-8,-7,-8,-9,-8,-6,-4,-2,-1,1,3,4,5,7,8,9,10,9,8,7,9,8,9,7,8,9,7,5,3,1,2,0,-2,-4,-6,-8,-9,-11,-10,-9,-10,-8,-9,-7,-8,-7,-5,-3,-1,1,3,4,6,8,9,10,9,10,8,9,10,11,9,7,5,3,1,-1,-3,-2,-4,-6,-8,-10,-12,-10,-11,-10,-9,-10,-8,-9,-10,-8,-6,-4,-2,0,2,3,1,3,5,7,8,9,10,11,10,11,9,10,9,8,6,4,2,0,-2,-4,-5,-7,-9,-11,-12,-11,-12,-11,-9,-8,-9,-10,-9,-7,-5,-3,-1,1,0,2,4,5,7,9,10,11,9,10,11,10,11,9,10,9,7,5,3,1,0,-2,-4,-5,-7,-9,-10,-12,-11,-13,-12,-10,-12,-11,-13,-12,-10,-12,-13,-12,-11,-12,-11,-9,-10,-11,-9,-8,-6,-4,-2,0,2,4,6,8,9,10,11,12,13,11,10,11,12,10,8,6,4,2,0,-2,-1,-3,-5,-7,-6,-8,-10,-12,-13,-14,-15,-13,-12,-11,-12,-11,-12,-10,-11,-9,-7,-5,-3,-1,1,3,5,6,8,9,10,11,12,13,11,12,11,12,11,12,10,8,6,4,2,0,-2,-1,-3,-5,-7,-9,-11,-13,-14,-15,-13,-12,-11,-9,-10,-11,-12,-11,-10,-8,-6,-4,-2,0,2,4,6,7,9,10,11,12,13,14,12,13,12,13,12,11,12,10,11,12,13,14,15,13,12,13,14,12,11,10,8,6,4,2,0,-2,-1,-3,-5,-6,-8,-10,-9,-11,-13,-14,-15,-14,-15,-13,-14,-13,-12,-10,-11,-12,-10,-9,-7,-5,-3,-1,1,3,5,6,8,10,11,12,10,11,12,13,12,11,13,12,10,12,13,14,15,16,14,15,14,15,13,14,15,16,14,12,13,14,12,10],\"xaxis\":\"x\",\"y\":[0,-1,1,-1,1,0,-1,1,-1,0,-2,-1,-3,-2,0,2,3,1,2,1,-1,-3,-2,0,-2,-3,-2,0,2,3,2,4,3,1,-1,-2,-3,-2,0,2,1,3,2,4,3,2,0,-2,-4,-3,-1,-3,-4,-5,-3,-1,1,3,4,5,3,1,-1,-3,-4,-5,-3,-4,-5,-4,-3,-5,-4,-3,-5,-3,-4,-2,0,2,3,4,5,3,4,5,4,2,4,3,1,-1,-3,-4,-2,-4,-5,-6,-7,-5,-6,-4,-5,-4,-2,0,2,4,5,6,7,6,5,4,2,0,-2,-4,-5,-6,-5,-6,-7,-6,-4,-2,0,2,4,5,6,7,5,6,5,4,6,7,6,5,4,3,5,4,6,5,3,5,6,7,8,9,7,5,6,7,6,8,7,6,4,2,0,-2,-4,-5,-6,-7,-8,-6,-7,-5,-6,-7,-5,-3,-1,1,3,5,6,7,5,6,7,8,9,8,7,5,3,1,-1,-3,-5,-6,-7,-8,-6,-7,-8,-9,-7,-5,-6,-4,-2,-1,1,3,5,6,4,6,7,8,9,7,8,6,7,8,9,10,8,6,4,3,1,-1,-3,-5,-6,-7,-8,-9,-10,-8,-9,-7,-8,-6,-4,-2,-3,-1,1,3,2,4,6,7,8,9,7,8,9,10,8,9,10,8,9,7,8,9,8,10,9,7,5,3,2,0,-2,-4,-6,-7,-8,-9,-7,-8,-9,-7,-9,-8,-6,-4,-2,0,2,0,-1,1,3,2,4,6,7,8,9,10,8,9,10,11,10,11,9,8,6,4,2,1,-1,-2,-4,-6,-7,-8,-9,-10,-11,-9,-10,-9,-7,-5,-3,-1,0,2,4,6,7,8,9,10,11,10,11,9,10,11,12,11,10,9,7,5,3,1,0,-2,-4,-5,-6,-7,-8,-9,-10,-8,-9,-10,-11,-10,-8,-6,-4,-2,0,2,1,3,5,7,8,9,10,11,12,13,11,12,11,10,8,6,4,2,1,-1,-3,-5,-7,-8,-9,-10,-11,-12,-10,-11,-12,-10,-11,-10,-8,-6,-5,-3,-1,1,3,4,6,8,9,10,11,12,10,11,12,10,11,12,10,9,11,10,12,13,14,12,11,13,12,11,9,7,5,3,1,0,-2,-4,-5,-7,-8,-9,-10,-11,-12,-11,-12,-11,-9,-7,-5,-3,-1,0,2,4,6,7,8,9,10,11,12,13,11,12,13,14,12,13,14,15,13,11,9,8,6,4,2,0,-2,-3,-5,-6,-7,-8,-9,-10,-11,-12,-13,-11,-10,-8,-6,-4,-2,-4,-3,-1,1,3,5,7,8,9,10,11,12,13,14,12,13,12,13,14,13,12,10,8,7,5,3,2,0,-2,-4,-6,-8,-9,-10,-11,-12,-13,-14,-13,-14,-12,-11,-9,-7,-5,-3,-1,0,-2,-4,-6,-8,-10,-12,-11,-9,-7,-5,-3,-1,0,2,4,6,5,7,9,10,11,12,13,14,15,13,14,15,13,14,15,13,14,15,13,11,9,7,6,4,2,0,-1,-3,-5,-6,-8,-9,-10,-11,-12,-13,-14,-15,-13,-12,-13,-11,-9,-10,-8,-6,-8,-10,-12,-11,-13,-12,-11,-9,-7,-5,-3,-2,-4,-6,-8,-7,-5,-3,-1,0,1,3,5,4,5],\"yaxis\":\"y\",\"type\":\"scatter\"}],                        {\"template\":{\"data\":{\"bar\":[{\"error_x\":{\"color\":\"#2a3f5f\"},\"error_y\":{\"color\":\"#2a3f5f\"},\"marker\":{\"line\":{\"color\":\"#E5ECF6\",\"width\":0.5},\"pattern\":{\"fillmode\":\"overlay\",\"size\":10,\"solidity\":0.2}},\"type\":\"bar\"}],\"barpolar\":[{\"marker\":{\"line\":{\"color\":\"#E5ECF6\",\"width\":0.5},\"pattern\":{\"fillmode\":\"overlay\",\"size\":10,\"solidity\":0.2}},\"type\":\"barpolar\"}],\"carpet\":[{\"aaxis\":{\"endlinecolor\":\"#2a3f5f\",\"gridcolor\":\"white\",\"linecolor\":\"white\",\"minorgridcolor\":\"white\",\"startlinecolor\":\"#2a3f5f\"},\"baxis\":{\"endlinecolor\":\"#2a3f5f\",\"gridcolor\":\"white\",\"linecolor\":\"white\",\"minorgridcolor\":\"white\",\"startlinecolor\":\"#2a3f5f\"},\"type\":\"carpet\"}],\"choropleth\":[{\"colorbar\":{\"outlinewidth\":0,\"ticks\":\"\"},\"type\":\"choropleth\"}],\"contour\":[{\"colorbar\":{\"outlinewidth\":0,\"ticks\":\"\"},\"colorscale\":[[0.0,\"#0d0887\"],[0.1111111111111111,\"#46039f\"],[0.2222222222222222,\"#7201a8\"],[0.3333333333333333,\"#9c179e\"],[0.4444444444444444,\"#bd3786\"],[0.5555555555555556,\"#d8576b\"],[0.6666666666666666,\"#ed7953\"],[0.7777777777777778,\"#fb9f3a\"],[0.8888888888888888,\"#fdca26\"],[1.0,\"#f0f921\"]],\"type\":\"contour\"}],\"contourcarpet\":[{\"colorbar\":{\"outlinewidth\":0,\"ticks\":\"\"},\"type\":\"contourcarpet\"}],\"heatmap\":[{\"colorbar\":{\"outlinewidth\":0,\"ticks\":\"\"},\"colorscale\":[[0.0,\"#0d0887\"],[0.1111111111111111,\"#46039f\"],[0.2222222222222222,\"#7201a8\"],[0.3333333333333333,\"#9c179e\"],[0.4444444444444444,\"#bd3786\"],[0.5555555555555556,\"#d8576b\"],[0.6666666666666666,\"#ed7953\"],[0.7777777777777778,\"#fb9f3a\"],[0.8888888888888888,\"#fdca26\"],[1.0,\"#f0f921\"]],\"type\":\"heatmap\"}],\"heatmapgl\":[{\"colorbar\":{\"outlinewidth\":0,\"ticks\":\"\"},\"colorscale\":[[0.0,\"#0d0887\"],[0.1111111111111111,\"#46039f\"],[0.2222222222222222,\"#7201a8\"],[0.3333333333333333,\"#9c179e\"],[0.4444444444444444,\"#bd3786\"],[0.5555555555555556,\"#d8576b\"],[0.6666666666666666,\"#ed7953\"],[0.7777777777777778,\"#fb9f3a\"],[0.8888888888888888,\"#fdca26\"],[1.0,\"#f0f921\"]],\"type\":\"heatmapgl\"}],\"histogram\":[{\"marker\":{\"pattern\":{\"fillmode\":\"overlay\",\"size\":10,\"solidity\":0.2}},\"type\":\"histogram\"}],\"histogram2d\":[{\"colorbar\":{\"outlinewidth\":0,\"ticks\":\"\"},\"colorscale\":[[0.0,\"#0d0887\"],[0.1111111111111111,\"#46039f\"],[0.2222222222222222,\"#7201a8\"],[0.3333333333333333,\"#9c179e\"],[0.4444444444444444,\"#bd3786\"],[0.5555555555555556,\"#d8576b\"],[0.6666666666666666,\"#ed7953\"],[0.7777777777777778,\"#fb9f3a\"],[0.8888888888888888,\"#fdca26\"],[1.0,\"#f0f921\"]],\"type\":\"histogram2d\"}],\"histogram2dcontour\":[{\"colorbar\":{\"outlinewidth\":0,\"ticks\":\"\"},\"colorscale\":[[0.0,\"#0d0887\"],[0.1111111111111111,\"#46039f\"],[0.2222222222222222,\"#7201a8\"],[0.3333333333333333,\"#9c179e\"],[0.4444444444444444,\"#bd3786\"],[0.5555555555555556,\"#d8576b\"],[0.6666666666666666,\"#ed7953\"],[0.7777777777777778,\"#fb9f3a\"],[0.8888888888888888,\"#fdca26\"],[1.0,\"#f0f921\"]],\"type\":\"histogram2dcontour\"}],\"mesh3d\":[{\"colorbar\":{\"outlinewidth\":0,\"ticks\":\"\"},\"type\":\"mesh3d\"}],\"parcoords\":[{\"line\":{\"colorbar\":{\"outlinewidth\":0,\"ticks\":\"\"}},\"type\":\"parcoords\"}],\"pie\":[{\"automargin\":true,\"type\":\"pie\"}],\"scatter\":[{\"marker\":{\"colorbar\":{\"outlinewidth\":0,\"ticks\":\"\"}},\"type\":\"scatter\"}],\"scatter3d\":[{\"line\":{\"colorbar\":{\"outlinewidth\":0,\"ticks\":\"\"}},\"marker\":{\"colorbar\":{\"outlinewidth\":0,\"ticks\":\"\"}},\"type\":\"scatter3d\"}],\"scattercarpet\":[{\"marker\":{\"colorbar\":{\"outlinewidth\":0,\"ticks\":\"\"}},\"type\":\"scattercarpet\"}],\"scattergeo\":[{\"marker\":{\"colorbar\":{\"outlinewidth\":0,\"ticks\":\"\"}},\"type\":\"scattergeo\"}],\"scattergl\":[{\"marker\":{\"colorbar\":{\"outlinewidth\":0,\"ticks\":\"\"}},\"type\":\"scattergl\"}],\"scattermapbox\":[{\"marker\":{\"colorbar\":{\"outlinewidth\":0,\"ticks\":\"\"}},\"type\":\"scattermapbox\"}],\"scatterpolar\":[{\"marker\":{\"colorbar\":{\"outlinewidth\":0,\"ticks\":\"\"}},\"type\":\"scatterpolar\"}],\"scatterpolargl\":[{\"marker\":{\"colorbar\":{\"outlinewidth\":0,\"ticks\":\"\"}},\"type\":\"scatterpolargl\"}],\"scatterternary\":[{\"marker\":{\"colorbar\":{\"outlinewidth\":0,\"ticks\":\"\"}},\"type\":\"scatterternary\"}],\"surface\":[{\"colorbar\":{\"outlinewidth\":0,\"ticks\":\"\"},\"colorscale\":[[0.0,\"#0d0887\"],[0.1111111111111111,\"#46039f\"],[0.2222222222222222,\"#7201a8\"],[0.3333333333333333,\"#9c179e\"],[0.4444444444444444,\"#bd3786\"],[0.5555555555555556,\"#d8576b\"],[0.6666666666666666,\"#ed7953\"],[0.7777777777777778,\"#fb9f3a\"],[0.8888888888888888,\"#fdca26\"],[1.0,\"#f0f921\"]],\"type\":\"surface\"}],\"table\":[{\"cells\":{\"fill\":{\"color\":\"#EBF0F8\"},\"line\":{\"color\":\"white\"}},\"header\":{\"fill\":{\"color\":\"#C8D4E3\"},\"line\":{\"color\":\"white\"}},\"type\":\"table\"}]},\"layout\":{\"annotationdefaults\":{\"arrowcolor\":\"#2a3f5f\",\"arrowhead\":0,\"arrowwidth\":1},\"autotypenumbers\":\"strict\",\"coloraxis\":{\"colorbar\":{\"outlinewidth\":0,\"ticks\":\"\"}},\"colorscale\":{\"diverging\":[[0,\"#8e0152\"],[0.1,\"#c51b7d\"],[0.2,\"#de77ae\"],[0.3,\"#f1b6da\"],[0.4,\"#fde0ef\"],[0.5,\"#f7f7f7\"],[0.6,\"#e6f5d0\"],[0.7,\"#b8e186\"],[0.8,\"#7fbc41\"],[0.9,\"#4d9221\"],[1,\"#276419\"]],\"sequential\":[[0.0,\"#0d0887\"],[0.1111111111111111,\"#46039f\"],[0.2222222222222222,\"#7201a8\"],[0.3333333333333333,\"#9c179e\"],[0.4444444444444444,\"#bd3786\"],[0.5555555555555556,\"#d8576b\"],[0.6666666666666666,\"#ed7953\"],[0.7777777777777778,\"#fb9f3a\"],[0.8888888888888888,\"#fdca26\"],[1.0,\"#f0f921\"]],\"sequentialminus\":[[0.0,\"#0d0887\"],[0.1111111111111111,\"#46039f\"],[0.2222222222222222,\"#7201a8\"],[0.3333333333333333,\"#9c179e\"],[0.4444444444444444,\"#bd3786\"],[0.5555555555555556,\"#d8576b\"],[0.6666666666666666,\"#ed7953\"],[0.7777777777777778,\"#fb9f3a\"],[0.8888888888888888,\"#fdca26\"],[1.0,\"#f0f921\"]]},\"colorway\":[\"#636efa\",\"#EF553B\",\"#00cc96\",\"#ab63fa\",\"#FFA15A\",\"#19d3f3\",\"#FF6692\",\"#B6E880\",\"#FF97FF\",\"#FECB52\"],\"font\":{\"color\":\"#2a3f5f\"},\"geo\":{\"bgcolor\":\"white\",\"lakecolor\":\"white\",\"landcolor\":\"#E5ECF6\",\"showlakes\":true,\"showland\":true,\"subunitcolor\":\"white\"},\"hoverlabel\":{\"align\":\"left\"},\"hovermode\":\"closest\",\"mapbox\":{\"style\":\"light\"},\"paper_bgcolor\":\"white\",\"plot_bgcolor\":\"#E5ECF6\",\"polar\":{\"angularaxis\":{\"gridcolor\":\"white\",\"linecolor\":\"white\",\"ticks\":\"\"},\"bgcolor\":\"#E5ECF6\",\"radialaxis\":{\"gridcolor\":\"white\",\"linecolor\":\"white\",\"ticks\":\"\"}},\"scene\":{\"xaxis\":{\"backgroundcolor\":\"#E5ECF6\",\"gridcolor\":\"white\",\"gridwidth\":2,\"linecolor\":\"white\",\"showbackground\":true,\"ticks\":\"\",\"zerolinecolor\":\"white\"},\"yaxis\":{\"backgroundcolor\":\"#E5ECF6\",\"gridcolor\":\"white\",\"gridwidth\":2,\"linecolor\":\"white\",\"showbackground\":true,\"ticks\":\"\",\"zerolinecolor\":\"white\"},\"zaxis\":{\"backgroundcolor\":\"#E5ECF6\",\"gridcolor\":\"white\",\"gridwidth\":2,\"linecolor\":\"white\",\"showbackground\":true,\"ticks\":\"\",\"zerolinecolor\":\"white\"}},\"shapedefaults\":{\"line\":{\"color\":\"#2a3f5f\"}},\"ternary\":{\"aaxis\":{\"gridcolor\":\"white\",\"linecolor\":\"white\",\"ticks\":\"\"},\"baxis\":{\"gridcolor\":\"white\",\"linecolor\":\"white\",\"ticks\":\"\"},\"bgcolor\":\"#E5ECF6\",\"caxis\":{\"gridcolor\":\"white\",\"linecolor\":\"white\",\"ticks\":\"\"}},\"title\":{\"x\":0.05},\"xaxis\":{\"automargin\":true,\"gridcolor\":\"white\",\"linecolor\":\"white\",\"ticks\":\"\",\"title\":{\"standoff\":15},\"zerolinecolor\":\"white\",\"zerolinewidth\":2},\"yaxis\":{\"automargin\":true,\"gridcolor\":\"white\",\"linecolor\":\"white\",\"ticks\":\"\",\"title\":{\"standoff\":15},\"zerolinecolor\":\"white\",\"zerolinewidth\":2}}},\"xaxis\":{\"anchor\":\"y\",\"domain\":[0.0,1.0],\"title\":{\"text\":\"x\"}},\"yaxis\":{\"anchor\":\"x\",\"domain\":[0.0,1.0],\"title\":{\"text\":\"y\"}},\"legend\":{\"tracegroupgap\":0},\"margin\":{\"t\":60}},                        {\"responsive\": true}                    ).then(function(){\n",
       "                            \n",
       "var gd = document.getElementById('e82f2ee5-ea69-498a-9eed-9e6a3c7ef22a');\n",
       "var x = new MutationObserver(function (mutations, observer) {{\n",
       "        var display = window.getComputedStyle(gd).display;\n",
       "        if (!display || display === 'none') {{\n",
       "            console.log([gd, 'removed!']);\n",
       "            Plotly.purge(gd);\n",
       "            observer.disconnect();\n",
       "        }}\n",
       "}});\n",
       "\n",
       "// Listen for the removal of the full notebook cells\n",
       "var notebookContainer = gd.closest('#notebook-container');\n",
       "if (notebookContainer) {{\n",
       "    x.observe(notebookContainer, {childList: true});\n",
       "}}\n",
       "\n",
       "// Listen for the clearing of the current output cell\n",
       "var outputEl = gd.closest('.output');\n",
       "if (outputEl) {{\n",
       "    x.observe(outputEl, {childList: true});\n",
       "}}\n",
       "\n",
       "                        })                };                });            </script>        </div>"
      ]
     },
     "metadata": {},
     "output_type": "display_data"
    }
   ],
   "source": [
    "import plotly.express as px\n",
    "x, y = zip(*path)\n",
    "fig = px.line(x=x, y=y)\n",
    "# fig = px.scatter(x=x, y=y)\n",
    "fig.show()"
   ]
  },
  {
   "cell_type": "code",
   "execution_count": null,
   "metadata": {},
   "outputs": [],
   "source": []
  }
 ],
 "metadata": {
  "kernelspec": {
   "display_name": "Python 3",
   "language": "python",
   "name": "python3"
  },
  "language_info": {
   "codemirror_mode": {
    "name": "ipython",
    "version": 3
   },
   "file_extension": ".py",
   "mimetype": "text/x-python",
   "name": "python",
   "nbconvert_exporter": "python",
   "pygments_lexer": "ipython3",
   "version": "3.9.5"
  }
 },
 "nbformat": 4,
 "nbformat_minor": 4
}
