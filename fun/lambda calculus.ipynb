{
 "cells": [
  {
   "cell_type": "code",
   "execution_count": 1,
   "id": "b1feabed",
   "metadata": {},
   "outputs": [],
   "source": [
    "def LEFT(a):\n",
    "    def f(b):\n",
    "        return a\n",
    "    return f\n",
    "\n",
    "def RIGHT(a):\n",
    "    def f(b):\n",
    "        return b\n",
    "    return f"
   ]
  },
  {
   "cell_type": "code",
   "execution_count": 2,
   "id": "55da551e",
   "metadata": {},
   "outputs": [
    {
     "data": {
      "text/plain": [
       "34"
      ]
     },
     "execution_count": 2,
     "metadata": {},
     "output_type": "execute_result"
    }
   ],
   "source": [
    "LEFT(34)(88)"
   ]
  },
  {
   "cell_type": "code",
   "execution_count": 4,
   "id": "7ba95919",
   "metadata": {},
   "outputs": [],
   "source": [
    "def TRUE(x):\n",
    "    return lambda y: x\n",
    "\n",
    "def FALSE(x):\n",
    "    return lambda y: y"
   ]
  },
  {
   "cell_type": "code",
   "execution_count": 7,
   "id": "fd5b1998",
   "metadata": {},
   "outputs": [
    {
     "data": {
      "text/plain": [
       "'second function'"
      ]
     },
     "execution_count": 7,
     "metadata": {},
     "output_type": "execute_result"
    }
   ],
   "source": [
    "FALSE('first function')('second function')"
   ]
  },
  {
   "cell_type": "code",
   "execution_count": 10,
   "id": "a4fb19a0",
   "metadata": {},
   "outputs": [],
   "source": [
    "def NOT(x):\n",
    "    return x(FALSE)(TRUE)"
   ]
  },
  {
   "cell_type": "code",
   "execution_count": 11,
   "id": "83da3f39",
   "metadata": {},
   "outputs": [],
   "source": [
    "assert NOT(TRUE) is FALSE\n",
    "assert NOT(FALSE) is TRUE"
   ]
  },
  {
   "cell_type": "code",
   "execution_count": null,
   "id": "81a89fcf",
   "metadata": {},
   "outputs": [],
   "source": []
  }
 ],
 "metadata": {
  "kernelspec": {
   "display_name": "Python 3",
   "language": "python",
   "name": "python3"
  },
  "language_info": {
   "codemirror_mode": {
    "name": "ipython",
    "version": 3
   },
   "file_extension": ".py",
   "mimetype": "text/x-python",
   "name": "python",
   "nbconvert_exporter": "python",
   "pygments_lexer": "ipython3",
   "version": "3.9.5"
  }
 },
 "nbformat": 4,
 "nbformat_minor": 5
}
